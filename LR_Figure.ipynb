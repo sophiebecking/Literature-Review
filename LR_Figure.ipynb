{
 "cells": [
  {
   "cell_type": "code",
   "execution_count": 74,
   "metadata": {},
   "outputs": [],
   "source": [
    "# EEG Biomarkers in Alzheimer's Disease\n",
    "\n",
    "# Visalisation Code for Literature Review\n",
    "# Author: Sophie Becking\n",
    "# MSc Neurobiology (Track: Physiology of Synapses and Networks) \n",
    "# Litearture Thesis Project, University of Amsterdam\n",
    "# Date: 11-06-2025"
   ]
  },
  {
   "cell_type": "code",
   "execution_count": 75,
   "metadata": {},
   "outputs": [],
   "source": [
    "## IMPORTS\n",
    "\n",
    "import pandas as pd\n",
    "import numpy as np\n",
    "import matplotlib.pyplot as plt\n",
    "from matplotlib.patches import FancyBboxPatch\n",
    "import plotly.express as px\n",
    "from collections import Counter\n"
   ]
  },
  {
   "cell_type": "code",
   "execution_count": 76,
   "metadata": {},
   "outputs": [
    {
     "name": "stdout",
     "output_type": "stream",
     "text": [
      "First few rows of the long format data:\n",
      "                     Study Intervention  Intervention_Type  \\\n",
      "0      Knott et al. (2000)     Nicotine         Medication   \n",
      "1  Scheltens et al. (2018)        PQ912         Medication   \n",
      "2    Benussi et al. (2022)       Y-tACS  Brain Stimulation   \n",
      "3    Andrade et al. (2022)      tDCS+CS  Brain Stimulation   \n",
      "4    Gangemi et al. (2021)         tDCS  Brain Stimulation   \n",
      "\n",
      "            EEG_Measure  CASP                                           Bands  \\\n",
      "0                 Power   9.5  Delta, Theta, Alpha, Beta, Alpha-1/2, Beta-1/2   \n",
      "1  Power & Connectivity  10.0                                    Alpha, Theta   \n",
      "2                 Power  10.0                       Theta, Alpha, Beta, Gamma   \n",
      "3  Power & Connectivity  10.0                       Delta, Theta, Alpha, Beta   \n",
      "4                 Power   9.0                              Alpha, Beta, Theta   \n",
      "\n",
      "                                         Description Frequency_Band  Effect  \n",
      "0  Absolute/relative power, mean frequency, slow/...          Delta    -1.0  \n",
      "1  Mean peak freq, global relative power, PLI, ne...          Delta     0.0  \n",
      "2                                         Band power          Delta     0.0  \n",
      "3  Band power, coherence (synchrony between elect...          Delta     1.0  \n",
      "4                                      Band activity          Delta     0.0  \n"
     ]
    }
   ],
   "source": [
    "## DATA \n",
    "\n",
    "studies = [\n",
    "    {'Study': 'Knott et al. (2000)', 'Intervention': 'Nicotine', 'Intervention_Type': 'Medication', 'EEG_Measure': 'Power', 'CASP': 9.5, 'Bands': 'Delta, Theta, Alpha, Beta, Alpha-1/2, Beta-1/2', 'Description': 'Absolute/relative power, mean frequency, slow/fast alpha/beta', 'Delta': -1, 'Theta': -1, 'Alpha': 1, 'Beta': 1},\n",
    "    {'Study': 'Scheltens et al. (2018)', 'Intervention': 'PQ912', 'Intervention_Type': 'Medication', 'EEG_Measure': 'Power & Connectivity', 'CASP': 10, 'Bands': 'Alpha, Theta', 'Description': 'Mean peak freq, global relative power, PLI, network topology', 'Delta': 0, 'Theta': -1, 'Alpha': 0, 'Beta': 0},\n",
    "    {'Study': 'Benussi et al. (2022)', 'Intervention': 'Y-tACS', 'Intervention_Type': 'Brain Stimulation', 'EEG_Measure': 'Power', 'CASP': 10, 'Bands': 'Theta, Alpha, Beta, Gamma', 'Description': 'Band power', 'Delta': 0, 'Theta': -1, 'Alpha': 0, 'Beta': 1, 'Gamma': 1},\n",
    "    {'Study': 'Andrade et al. (2022)', 'Intervention': 'tDCS+CS', 'Intervention_Type': 'Brain Stimulation', 'EEG_Measure': 'Power & Connectivity', 'CASP': 10, 'Bands': 'Delta, Theta, Alpha, Beta', 'Description': 'Band power, coherence (synchrony between electrodes)', 'Delta': 1, 'Theta': 1, 'Alpha': 1, 'Beta': 1},\n",
    "    {'Study': 'Gangemi et al. (2021)', 'Intervention': 'tDCS', 'Intervention_Type': 'Brain Stimulation', 'EEG_Measure': 'Power', 'CASP': 9, 'Bands': 'Alpha, Beta, Theta', 'Description': 'Band activity', 'Delta': 0, 'Theta': 0, 'Alpha': -1, 'Beta': -1},\n",
    "    {'Study': 'Vecchio et al. (2022)', 'Intervention': 'rTMS-COG', 'Intervention_Type': 'Brain Stimulation', 'EEG_Measure': 'Power', 'CASP': 8, 'Bands': 'Delta, Theta, Alpha-1/2, Beta-1/2, Gamma', 'Description': 'SW index per band', 'Delta': -1, 'Theta': 0, 'Alpha': 1, 'Beta': -1, 'Gamma': 0},\n",
    "    {'Study': 'Briels et al. (2020)', 'Intervention': 'PQ912', 'Intervention_Type': 'Medication', 'EEG_Measure': 'Power & Connectivity', 'CASP': 10, 'Bands': 'Delta, Theta, Alpha, Beta', 'Description': 'Global relative power, AEC-c, PLI', 'Delta': 0, 'Theta': 0, 'Alpha': 1, 'Beta': 0},\n",
    "    {'Study': 'Scheltens et al. (2012)', 'Intervention': 'Souvenaid', 'Intervention_Type': 'Medication', 'EEG_Measure': 'Power & Connectivity', 'CASP': 9, 'Bands': 'Delta, Theta, Alpha, Beta, Gamma', 'Description': 'Relative/absolute power, peak freq, PLI', 'Delta': 1, 'Theta': 0, 'Alpha': 0, 'Beta': 0, 'Gamma': 0},\n",
    "    {'Study': 'Babiloni et al. (2009)', 'Intervention': 'Ibuprofen', 'Intervention_Type': 'Medication', 'EEG_Measure': 'Power', 'CASP': 9.5, 'Bands': 'Delta, Theta, Alpha-1/2, Beta-1/2', 'Description': 'Power density, LORETA', 'Delta': -1, 'Theta': 0, 'Alpha': 0, 'Beta': 0},\n",
    "    {'Study': 'de Waal et al. (2014)', 'Intervention': 'Souvenaid', 'Intervention_Type': 'Medication', 'EEG_Measure': 'Connectivity', 'CASP': 9, 'Bands': 'Delta, Theta, Alpha, Beta, Gamma', 'Description': 'PLI, network integration (gamma, lambda)', 'Delta': 0, 'Theta': 0, 'Alpha': 0, 'Beta': 1},\n",
    "    {'Study': 'Mohr et al. (1995)', 'Intervention': 'Cycloserine', 'Intervention_Type': 'Medication', 'EEG_Measure': 'Power', 'CASP': 9, 'Bands': 'Delta, Theta, Alpha-1/2, Beta', 'Description': 'Absolute/relative power, entropy maps', 'Delta': 0, 'Theta': 0, 'Alpha': 0, 'Beta': 0},\n",
    "    {'Study': 'Saletu et al. (1992)', 'Intervention': 'Denbufylline', 'Intervention_Type': 'Medication', 'EEG_Measure': 'Power', 'CASP': 8.5, 'Bands': 'Delta, Theta, Alpha, Beta', 'Description': 'Total, absolute/relative power, centroids', 'Delta': -1, 'Theta': 0, 'Alpha': 0, 'Beta': 0},\n",
    "    {'Study': 'Grossmann et al. (1990)', 'Intervention': 'Naftidrofuryl', 'Intervention_Type': 'Medication', 'EEG_Measure': 'Power', 'CASP': 10, 'Bands': 'Delta, Theta, Alpha, Beta', 'Description': 'Relative power, dominant frequency, alpha/theta ratio', 'Delta': -1, 'Theta': 1, 'Alpha': 1, 'Beta': -1},\n",
    "    {'Study': 'Alvarez et al. (1999)', 'Intervention': 'Citicoline', 'Intervention_Type': 'Medication', 'EEG_Measure': 'Power', 'CASP': 9.5, 'Bands': 'Delta, Theta, Alpha, Beta', 'Description': 'Relative power', 'Delta': -1, 'Theta': 1, 'Alpha': 0, 'Beta': 1},\n",
    "    {'Study': 'Almkvist et al. (2001)', 'Intervention': 'Tacrine', 'Intervention_Type': 'Medication', 'EEG_Measure': 'Power', 'CASP': 9, 'Bands': 'Delta, Theta, Alpha, Beta', 'Description': 'Absolute alpha/theta ratio, spectral analysis', 'Delta': -1, 'Theta': -1, 'Alpha': 1, 'Beta': 1},\n",
    "    {'Study': 'Saletu et al. (1995)', 'Intervention': 'Nicergoline', 'Intervention_Type': 'Medication', 'EEG_Measure': 'Power', 'CASP': 9, 'Bands': 'Delta, Theta, Alpha, Beta', 'Description': 'Absolute/relative power, centroids', 'Delta': -1, 'Theta': -1, 'Alpha': 1, 'Beta': 1},\n",
    "    {'Study': 'Hoy et al. (2023)', 'Intervention': 'iTBS', 'Intervention_Type': 'Brain Stimulation', 'EEG_Measure': 'Connectivity', 'CASP': 8, 'Bands': 'Theta, Gamma', 'Description': 'wPLI (functional connectivity)', 'Delta': 0, 'Theta': 0, 'Alpha': 0, 'Beta': 0, 'Gamma': 1},\n",
    "    {'Study': 'Heiss et al. (1994)', 'Intervention': 'Pyritinol + CT', 'Intervention_Type': 'Medication', 'EEG_Measure': 'Power', 'CASP': 6, 'Bands': 'Delta, Theta, Alpha, Beta', 'Description': 'Global, absolute/relative power', 'Delta': 0, 'Theta': 1, 'Alpha': 0, 'Beta': 0},\n",
    "    {'Study': 'Engel et al. (1992)', 'Intervention': 'Phosphatidylserine', 'Intervention_Type': 'Medication', 'EEG_Measure': 'Power', 'CASP': 9, 'Bands': 'Delta, Theta, Alpha, Beta-1/2', 'Description': 'Absolute power', 'Delta': 0, 'Theta': -1, 'Alpha': -1, 'Beta': -1},\n",
    "    {'Study': 'Minthon et al. (1993)', 'Intervention': 'THA', 'Intervention_Type': 'Medication', 'EEG_Measure': 'Power', 'CASP': 9, 'Bands': 'Delta, Theta, Alpha, Beta', 'Description': 'Absolute/relative power', 'Delta': -1, 'Theta': -1, 'Alpha': -1, 'Beta': -1},\n",
    "    {'Study': 'Koch et al. (2018)', 'Intervention': 'rTMS', 'Intervention_Type': 'Brain Stimulation', 'EEG_Measure': 'Power', 'CASP': 10, 'Bands': 'Delta, Theta, Alpha, Beta, Gamma', 'Description': 'Mean spectral power', 'Delta': 0, 'Theta': 0, 'Alpha': 0, 'Beta': 0, 'Gamma': 0},\n",
    "    {'Study': 'Cheng et al. (2024)', 'Intervention': 'Physical exercise + CT', 'Intervention_Type': 'Other', 'EEG_Measure': 'Power', 'CASP': 8, 'Bands': 'Alpha', 'Description': 'Band power', 'Delta': 0, 'Theta': 0, 'Alpha': 1, 'Beta': 0},\n",
    "    {'Study': 'Koch et al. (2023)', 'Intervention': 'Precuneus rTMS', 'Intervention_Type': 'Brain Stimulation', 'EEG_Measure': 'Power', 'CASP': 10, 'Bands': 'Delta, Theta, Alpha, Beta, Gamma', 'Description': 'Band power', 'Delta': 0, 'Theta': -1, 'Alpha': 0, 'Beta': 0, 'Gamma': 1},\n",
    "    {'Study': 'Vijverberg et al. (2024)', 'Intervention': 'CT1812', 'Intervention_Type': 'Medication', 'EEG_Measure': 'Power', 'CASP': 10, 'Bands': 'Delta, Theta, Alpha, Beta', 'Description': 'Band power', 'Delta': 0, 'Theta': -1, 'Alpha': 1, 'Beta': 0},\n",
    "    {'Study': 'Gangemi et al. (2021) - long-term', 'Intervention': 'tDCS', 'Intervention_Type': 'Brain Stimulation', 'EEG_Measure': 'Functional Connectivity', 'CASP': 9, 'Bands': 'Delta, Theta, Alpha1, Alpha2, Beta1, Beta2, Gamma', 'Description': 'Small World (SW) graph approach, eLORETA', 'Delta': -1, 'Theta': 0, 'Alpha': 1, 'Beta': -1, 'Gamma': 0},\n",
    "    {'Study': 'Babiloni et al. (2006)', 'Intervention': 'Ibuprofen', 'Intervention_Type': 'Medication', 'EEG_Measure': 'Power & Connectivity', 'CASP': 9, 'Bands': 'Delta, Theta, Alpha, Beta, Gamma', 'Description': 'Power density, LORETA, PLI, graph theory', 'Delta': 0, 'Theta': 0, 'Alpha': 0, 'Beta': 1, 'Gamma': 1}\n",
    "]\n",
    "\n",
    "# Convert studies to DataFrame\n",
    "df = pd.DataFrame(studies)\n",
    "\n",
    "# Melt the frequency bands into long format\n",
    "df_long = pd.melt(df, \n",
    "                  id_vars=['Study', 'Intervention', 'Intervention_Type', 'EEG_Measure', 'CASP', 'Bands', 'Description'],\n",
    "                  value_vars=['Delta', 'Theta', 'Alpha', 'Beta', 'Gamma'],\n",
    "                  var_name='Frequency_Band',\n",
    "                  value_name='Effect')\n",
    "\n",
    "# Remove rows where Effect is NaN\n",
    "df_long = df_long.dropna(subset=['Effect'])\n",
    "\n",
    "# Save to CSV\n",
    "df_long.to_csv('studies_long_format.csv', index=False)\n",
    "\n",
    "# Print first few rows to verify\n",
    "print(\"First few rows of the long format data:\")\n",
    "print(df_long.head())"
   ]
  },
  {
   "cell_type": "code",
   "execution_count": null,
   "metadata": {},
   "outputs": [
    {
     "data": {
      "image/png": "[encoded data removed]",
      "text/plain": [
       "<Figure size 1100x420 with 5 Axes>"
      ]
     },
     "metadata": {},
     "output_type": "display_data"
    }
   ],
   "source": [
    "## FIGURE 1. Overview of the main human EEG frequency bands\n",
    "\n",
    "bands = [\n",
    "    {\n",
    "        \"name\": \"Gamma\",\n",
    "        \"range\": \"32 - 100 Hz\",\n",
    "        \"color\": \"#dbeafe\",\n",
    "        \"linecolor\": \"#1e40af\",\n",
    "        \"desc\": \"Perception, learning, problem solving,\\ncognitive processing\",\n",
    "        \"freq\": 40\n",
    "    },\n",
    "    {\n",
    "        \"name\": \"Beta\",\n",
    "        \"range\": \"13 - 32 Hz\",\n",
    "        \"color\": \"#dcfce7\",\n",
    "        \"linecolor\": \"#166534\",\n",
    "        \"desc\": \"Alert, active thinking, focus,\\nexcitement\",\n",
    "        \"freq\": 20\n",
    "    },\n",
    "    {\n",
    "        \"name\": \"Alpha\",\n",
    "        \"range\": \"8 - 13 Hz\",\n",
    "        \"color\": \"#fef9c3\",\n",
    "        \"linecolor\": \"#ca8a04\",\n",
    "        \"desc\": \"Relaxed, calm wakefulness,\\ncreativity\",\n",
    "        \"freq\": 10\n",
    "    },\n",
    "    {\n",
    "        \"name\": \"Theta\",\n",
    "        \"range\": \"4 - 8 Hz\",\n",
    "        \"color\": \"#fef3c7\",\n",
    "        \"linecolor\": \"#b45309\",\n",
    "        \"desc\": \"Dreams, deep relaxation,\\nmeditation\",\n",
    "        \"freq\": 6\n",
    "    },\n",
    "    {\n",
    "        \"name\": \"Delta\",\n",
    "        \"range\": \"0.5 - 4 Hz\",\n",
    "        \"color\": \"#fee2e2\",\n",
    "        \"linecolor\": \"#991b1b\",\n",
    "        \"desc\": \"Deep sleep, restoration,\\nunconsciousness\",\n",
    "        \"freq\": 2\n",
    "    }\n",
    "]\n",
    "\n",
    "fig, axes = plt.subplots(len(bands), 1, figsize=(11, 4.2), sharex=True)\n",
    "plt.subplots_adjust(hspace=0.3)\n",
    "\n",
    "# Parameters for spacing\n",
    "left_text_x = 0.03\n",
    "right_text_x = 0.97\n",
    "wave_left = 0.35\n",
    "wave_right = 0.65\n",
    "\n",
    "for i, band in enumerate(bands):\n",
    "    ax = axes[i]\n",
    "    # Background with rounded corners\n",
    "    bbox = FancyBboxPatch(\n",
    "        (0, -1.2), 1, 2.4,\n",
    "        boxstyle=\"round,pad=0.04,rounding_size=0.08\",\n",
    "        linewidth=0, facecolor=band[\"color\"], alpha=0.8, zorder=0, transform=ax.transAxes\n",
    "    )\n",
    "    ax.add_patch(bbox)\n",
    "    # Wave only in the middle (between wave_left and wave_right)\n",
    "    t_wave = np.linspace(0, 1, 500)\n",
    "    x_wave = np.linspace(wave_left, wave_right, 500)\n",
    "    wave = np.sin(2 * np.pi * band[\"freq\"] * t_wave)\n",
    "    noise = np.random.normal(0, 0.08, len(t_wave))\n",
    "    ax.plot(x_wave, wave + noise, color=band[\"linecolor\"], lw=2.5, zorder=2, clip_on=False)\n",
    "    # Text left (in the bar, not over the wave)\n",
    "    ax.text(left_text_x, 0.7, f\"{band['name']}\\n{band['range']}\", va='center', ha='left',\n",
    "            fontsize=12, fontweight='bold', color=band[\"linecolor\"], transform=ax.transAxes, family='DejaVu Sans')\n",
    "    # Text right (in the bar, with loop back)\n",
    "    ax.text(right_text_x, 0.7, band[\"desc\"], va='center', ha='right', fontsize=10, color=band[\"linecolor\"],\n",
    "            wrap=True, transform=ax.transAxes, family='DejaVu Sans', linespacing=1.3)\n",
    "    # Settings\n",
    "    ax.set_yticks([])\n",
    "    ax.set_ylim(-1.3, 1.3)\n",
    "    ax.set_xlim(0, 1)\n",
    "    ax.spines['top'].set_visible(False)\n",
    "    ax.spines['right'].set_visible(False)\n",
    "    ax.spines['left'].set_visible(False)\n",
    "    ax.spines['bottom'].set_visible(False)\n",
    "    ax.tick_params(left=False, bottom=False, labelbottom=False)\n",
    "\n",
    "axes[0].set_title(\"Human Brainwaves\", fontsize=18, pad=20, fontweight='bold', family='DejaVu Sans')\n",
    "\n",
    "plt.tight_layout(rect=[0, 0, 1, 0.98])\n",
    "plt.show()"
   ]
  },
  {
   "cell_type": "code",
   "execution_count": 78,
   "metadata": {},
   "outputs": [
    {
     "data": {
      "image/png": "[encoded data removed]",
      "text/plain": [
       "<Figure size 1800x600 with 3 Axes>"
      ]
     },
     "metadata": {},
     "output_type": "display_data"
    }
   ],
   "source": [
    "## FIGURE 2. Overview of study characteristics across included studies\n",
    "\n",
    "# Create DataFrame with intervention types and publication years\n",
    "data = {\n",
    "    'Study': [\n",
    "        'Knott et al. (2000)', 'Scheltens et al. (2018)', 'Benussi et al. (2022)',\n",
    "        'Andrade et al. (2022)', 'Gangemi et al. (2021)', 'Vecchio et al. (2022)',\n",
    "        'Briels et al. (2020)', 'Scheltens et al. (2012)', 'Babiloni et al. (2006)',\n",
    "        'de Waal et al. (2014)', 'Mohr et al. (1995)', 'Saletu et al. (1992)',\n",
    "        'Grossmann et al. (1990)', 'Alvarez et al. (1999)', 'Almkvist et al. (2001)',\n",
    "        'Saletu et al. (1995)', 'Hoy et al. (2023)', 'Heiss et al. (1994)',\n",
    "        'Engel et al. (1992)', 'Minthon et al. (1993)', 'Babiloni et al. (2009)',\n",
    "        'Koch et al. (2018)', 'Cheng et al. (2024)', 'Navid et al. (2024)',\n",
    "        'Koch et al. (2025)', 'Lin et al. (2024)', 'Tang et al. (2024)',\n",
    "        'Prins et al. (2024)', 'Vijverberg et al. (2024)'\n",
    "    ],\n",
    "    'Intervention_Type': [\n",
    "        'Pharmacological', 'Pharmacological', 'Non-invasive brain stimulation',\n",
    "        'Pharmacological', 'Pharmacological', 'Non-invasive brain stimulation',\n",
    "        'Non-invasive brain stimulation', 'Pharmacological', 'Pharmacological',\n",
    "        'Non-invasive brain stimulation', 'Pharmacological', 'Pharmacological',\n",
    "        'Pharmacological', 'Pharmacological', 'Pharmacological',\n",
    "        'Pharmacological', 'Non-invasive brain stimulation', 'Pharmacological',\n",
    "        'Pharmacological', 'Pharmacological', 'Pharmacological',\n",
    "        'Non-invasive brain stimulation', 'Combined', 'Combined',\n",
    "        'Non-invasive brain stimulation', 'Combined', 'Non-invasive brain stimulation',\n",
    "        'Non-invasive brain stimulation', 'Nutritional supplement'\n",
    "    ],\n",
    "    'EEG_Analysis': [\n",
    "        'Power Analysis Only', 'Both Power and Connectivity', 'Both Power and Connectivity',\n",
    "        'Both Power and Connectivity', 'Power Analysis Only', 'Functional Connectivity Only',\n",
    "        'Functional Connectivity Only', 'Both Power and Connectivity', 'Both Power and Connectivity',\n",
    "        'Both Power and Connectivity', 'Both Power and Connectivity', 'Both Power and Connectivity',\n",
    "        'Power Analysis Only', 'Both Power and Connectivity', 'Power Analysis Only',\n",
    "        'Both Power and Connectivity', 'Functional Connectivity Only', 'Power Analysis Only',\n",
    "        'Power Analysis Only', 'Power Analysis Only', 'Power Analysis Only',\n",
    "        'Both Power and Connectivity', 'Functional Connectivity Only', 'Both Power and Connectivity',\n",
    "        'Both Power and Connectivity', 'Both Power and Connectivity', 'Both Power and Connectivity',\n",
    "        'Both Power and Connectivity', 'Power Analysis Only'\n",
    "    ]\n",
    "}\n",
    "\n",
    "df = pd.DataFrame(data)\n",
    "\n",
    "# Extract years and create time periods\n",
    "df['Year'] = df['Study'].str.extract(r'\\((\\d{4})\\)').astype(int)\n",
    "df['Time_Period'] = pd.cut(df['Year'], \n",
    "                          bins=[1990, 2000, 2010, 2020, 2024],\n",
    "                          labels=['1990-2000', '2001-2010', '2011-2020', '2021-2025'])\n",
    "\n",
    "# Count intervention types and reorder\n",
    "intervention_counts = df['Intervention_Type'].value_counts()\n",
    "intervention_counts = intervention_counts.reindex(['Pharmacological', 'Non-invasive brain stimulation', \n",
    "                                                 'Nutritional supplement', 'Combined'])\n",
    "\n",
    "# Count EEG analysis methods\n",
    "eeg_counts = df['EEG_Analysis'].value_counts()\n",
    "eeg_counts = eeg_counts.reindex(['Power Analysis Only', 'Functional Connectivity Only', \n",
    "                                'Both Power and Connectivity'])\n",
    "\n",
    "time_period_counts = df['Time_Period'].value_counts().sort_index()\n",
    "\n",
    "\n",
    "# Create figure with three subplots\n",
    "fig, (ax1, ax2, ax3) = plt.subplots(1, 3, figsize=(18, 6))\n",
    "\n",
    "# Plot 1: Intervention Types\n",
    "colors = ['#2ecc71', '#3498db', '#e74c3c', '#f1c40f']\n",
    "ax1.bar(intervention_counts.index, intervention_counts.values, color=colors)\n",
    "ax1.set_title('Intervention Types')\n",
    "ax1.set_ylabel('Number of Studies')\n",
    "ax1.tick_params(axis='x', rotation=45)\n",
    "\n",
    "# Plot 2: EEG Analysis Methods\n",
    "ax2.bar(eeg_counts.index, eeg_counts.values, color=colors[:3])\n",
    "ax2.set_title('EEG Analysis Methods')\n",
    "ax2.tick_params(axis='x', rotation=45)\n",
    "\n",
    "# Plot 3: Time Periods\n",
    "ax3.bar(time_period_counts.index, time_period_counts.values, color=colors[:4])\n",
    "ax3.set_title('Publication Timeline')\n",
    "ax3.tick_params(axis='x', rotation=45)\n",
    "\n",
    "# Adjust layout\n",
    "plt.tight_layout()\n",
    "\n",
    "# Save the figure\n",
    "plt.savefig('study_characteristics.png', dpi=300, bbox_inches='tight')\n",
    "plt.show()"
   ]
  },
  {
   "cell_type": "code",
   "execution_count": null,
   "metadata": {},
   "outputs": [
    {
     "data": {
      "application/vnd.plotly.v1+json": {
       "config": {
        "plotlyServerURL": "https://plot.ly"
       },
       "data": [
        {
         "branchvalues": "total",
         "customdata": [
          [
           "Engel et al. (1992)",
           "9.0",
           "Phosphatidylserine",
           "Alpha",
           "Decrease",
           "green"
          ],
          [
           "Scheltens et al. (2012)",
           "9.0",
           "Souvenaid",
           "Delta",
           "Increase",
           "green"
          ],
          [
           "Babiloni et al. (2006)",
           "9.0",
           "Ibuprofen",
           "Gamma",
           "Increase",
           "green"
          ],
          [
           "Alvarez et al. (1999)",
           "9.5",
           "Citicoline",
           "Theta",
           "Increase",
           "green"
          ],
          [
           "Grossmann et al. (1990)",
           "10.0",
           "Naftidrofuryl",
           "Theta",
           "Increase",
           "green"
          ],
          [
           "Heiss et al. (1994)",
           "6.0",
           "Pyritinol + CT",
           "Theta",
           "Increase",
           "red"
          ],
          [
           "Alvarez et al. (1999)",
           "9.5",
           "Citicoline",
           "Alpha",
           "No Change",
           "green"
          ],
          [
           "Mohr et al. (1995)",
           "9.0",
           "Cycloserine",
           "Alpha",
           "No Change",
           "green"
          ],
          [
           "Saletu et al. (1992)",
           "8.5",
           "Denbufylline",
           "Alpha",
           "No Change",
           "orange"
          ],
          [
           "Babiloni et al. (2009), Babiloni et al. (2006)",
           "9.5, 9.0",
           "Ibuprofen",
           "Alpha",
           "No Change",
           "green"
          ],
          [
           "Scheltens et al. (2018)",
           "10.0",
           "PQ912",
           "Alpha",
           "No Change",
           "green"
          ],
          [
           "Heiss et al. (1994)",
           "6.0",
           "Pyritinol + CT",
           "Alpha",
           "No Change",
           "red"
          ],
          [
           "Scheltens et al. (2012), de Waal et al. (2014)",
           "9.0, 9.0",
           "Souvenaid",
           "Alpha",
           "No Change",
           "green"
          ],
          [
           "Briels et al. (2020)",
           "10.0",
           "PQ912",
           "Theta",
           "No Change",
           "green"
          ],
          [
           "Vijverberg et al. (2024)",
           "10.0",
           "CT1812",
           "Beta",
           "No Change",
           "green"
          ],
          [
           "Scheltens et al. (2012)",
           "9.0",
           "Souvenaid",
           "Beta",
           "No Change",
           "green"
          ],
          [
           "Vijverberg et al. (2024)",
           "10.0",
           "CT1812",
           "Delta",
           "No Change",
           "green"
          ],
          [
           "Mohr et al. (1995)",
           "9.0",
           "Cycloserine",
           "Delta",
           "No Change",
           "green"
          ],
          [
           "Babiloni et al. (2006)",
           "9.0",
           "Ibuprofen",
           "Delta",
           "No Change",
           "green"
          ],
          [
           "Scheltens et al. (2018), Briels et al. (2020)",
           "10.0, 10.0",
           "PQ912",
           "Delta",
           "No Change",
           "green"
          ],
          [
           "Engel et al. (1992)",
           "9.0",
           "Phosphatidylserine",
           "Delta",
           "No Change",
           "green"
          ],
          [
           "Heiss et al. (1994)",
           "6.0",
           "Pyritinol + CT",
           "Delta",
           "No Change",
           "red"
          ],
          [
           "de Waal et al. (2014)",
           "9.0",
           "Souvenaid",
           "Delta",
           "No Change",
           "green"
          ],
          [
           "Scheltens et al. (2012)",
           "9.0",
           "Souvenaid",
           "Gamma",
           "No Change",
           "green"
          ],
          [
           "Mohr et al. (1995)",
           "9.0",
           "Cycloserine",
           "Theta",
           "No Change",
           "green"
          ],
          [
           "Saletu et al. (1992)",
           "8.5",
           "Denbufylline",
           "Theta",
           "No Change",
           "orange"
          ],
          [
           "Babiloni et al. (2009), Babiloni et al. (2006)",
           "9.5, 9.0",
           "Ibuprofen",
           "Theta",
           "No Change",
           "green"
          ],
          [
           "Heiss et al. (1994)",
           "6.0",
           "Pyritinol + CT",
           "Beta",
           "No Change",
           "red"
          ],
          [
           "de Waal et al. (2014)",
           "9.0",
           "Souvenaid",
           "Beta",
           "Increase",
           "green"
          ],
          [
           "Almkvist et al. (2001)",
           "9.0",
           "Tacrine",
           "Beta",
           "Increase",
           "green"
          ],
          [
           "Saletu et al. (1995)",
           "9.0",
           "Nicergoline",
           "Beta",
           "Increase",
           "green"
          ],
          [
           "Minthon et al. (1993)",
           "9.0",
           "THA",
           "Alpha",
           "Decrease",
           "green"
          ],
          [
           "Grossmann et al. (1990)",
           "10.0",
           "Naftidrofuryl",
           "Beta",
           "Decrease",
           "green"
          ],
          [
           "Engel et al. (1992)",
           "9.0",
           "Phosphatidylserine",
           "Beta",
           "Decrease",
           "green"
          ],
          [
           "Minthon et al. (1993)",
           "9.0",
           "THA",
           "Beta",
           "Decrease",
           "green"
          ],
          [
           "Alvarez et al. (1999)",
           "9.5",
           "Citicoline",
           "Delta",
           "Decrease",
           "green"
          ],
          [
           "Saletu et al. (1992)",
           "8.5",
           "Denbufylline",
           "Delta",
           "Decrease",
           "orange"
          ],
          [
           "Babiloni et al. (2009)",
           "9.5",
           "Ibuprofen",
           "Delta",
           "Decrease",
           "green"
          ],
          [
           "Grossmann et al. (1990)",
           "10.0",
           "Naftidrofuryl",
           "Delta",
           "Decrease",
           "green"
          ],
          [
           "Saletu et al. (1995)",
           "9.0",
           "Nicergoline",
           "Delta",
           "Decrease",
           "green"
          ],
          [
           "Knott et al. (2000)",
           "9.5",
           "Nicotine",
           "Delta",
           "Decrease",
           "green"
          ],
          [
           "Minthon et al. (1993)",
           "9.0",
           "THA",
           "Delta",
           "Decrease",
           "green"
          ],
          [
           "Knott et al. (2000)",
           "9.5",
           "Nicotine",
           "Beta",
           "Increase",
           "green"
          ],
          [
           "Scheltens et al. (2012), de Waal et al. (2014)",
           "9.0, 9.0",
           "Souvenaid",
           "Theta",
           "No Change",
           "green"
          ],
          [
           "Almkvist et al. (2001)",
           "9.0",
           "Tacrine",
           "Theta",
           "Decrease",
           "green"
          ],
          [
           "Babiloni et al. (2006)",
           "9.0",
           "Ibuprofen",
           "Beta",
           "Increase",
           "green"
          ],
          [
           "Scheltens et al. (2018)",
           "10.0",
           "PQ912",
           "Theta",
           "Decrease",
           "green"
          ],
          [
           "Alvarez et al. (1999)",
           "9.5",
           "Citicoline",
           "Beta",
           "Increase",
           "green"
          ],
          [
           "Almkvist et al. (2001)",
           "9.0",
           "Tacrine",
           "Alpha",
           "Increase",
           "green"
          ],
          [
           "Briels et al. (2020)",
           "10.0",
           "PQ912",
           "Alpha",
           "Increase",
           "green"
          ],
          [
           "Knott et al. (2000)",
           "9.5",
           "Nicotine",
           "Alpha",
           "Increase",
           "green"
          ],
          [
           "Engel et al. (1992)",
           "9.0",
           "Phosphatidylserine",
           "Theta",
           "Decrease",
           "green"
          ],
          [
           "Minthon et al. (1993)",
           "9.0",
           "THA",
           "Theta",
           "Decrease",
           "green"
          ],
          [
           "Saletu et al. (1995)",
           "9.0",
           "Nicergoline",
           "Alpha",
           "Increase",
           "green"
          ],
          [
           "Vijverberg et al. (2024)",
           "10.0",
           "CT1812",
           "Alpha",
           "Increase",
           "green"
          ],
          [
           "Grossmann et al. (1990)",
           "10.0",
           "Naftidrofuryl",
           "Alpha",
           "Increase",
           "green"
          ],
          [
           "Saletu et al. (1995)",
           "9.0",
           "Nicergoline",
           "Theta",
           "Decrease",
           "green"
          ],
          [
           "Almkvist et al. (2001)",
           "9.0",
           "Tacrine",
           "Delta",
           "Decrease",
           "green"
          ],
          [
           "Vijverberg et al. (2024)",
           "10.0",
           "CT1812",
           "Theta",
           "Decrease",
           "green"
          ],
          [
           "Knott et al. (2000)",
           "9.5",
           "Nicotine",
           "Theta",
           "Decrease",
           "green"
          ],
          [
           "Scheltens et al. (2018), Briels et al. (2020)",
           "10.0, 10.0",
           "PQ912",
           "Beta",
           "No Change",
           "green"
          ],
          [
           "Babiloni et al. (2009)",
           "9.5",
           "Ibuprofen",
           "Beta",
           "No Change",
           "green"
          ],
          [
           "Mohr et al. (1995)",
           "9.0",
           "Cycloserine",
           "Beta",
           "No Change",
           "green"
          ],
          [
           "Saletu et al. (1992)",
           "8.5",
           "Denbufylline",
           "Beta",
           "No Change",
           "orange"
          ],
          [
           "Vijverberg et al. (2024)",
           "10.0",
           "CT1812",
           "Alpha",
           "Increase",
           "green"
          ],
          [
           "Alvarez et al. (1999)",
           "9.5",
           "Citicoline",
           "Alpha",
           "No Change",
           "green"
          ],
          [
           "Mohr et al. (1995)",
           "9.0",
           "Cycloserine",
           "Alpha",
           "No Change",
           "green"
          ],
          [
           "Saletu et al. (1992)",
           "8.5",
           "Denbufylline",
           "Alpha",
           "No Change",
           "orange"
          ],
          [
           "Babiloni et al. (2009), Babiloni et al. (2006)",
           "9.5, 9.0",
           "Ibuprofen",
           "Alpha",
           "No Change",
           "green"
          ],
          [
           "Grossmann et al. (1990)",
           "10.0",
           "Naftidrofuryl",
           "Alpha",
           "Increase",
           "green"
          ],
          [
           "Saletu et al. (1995)",
           "9.0",
           "Nicergoline",
           "Alpha",
           "Increase",
           "green"
          ],
          [
           "Knott et al. (2000)",
           "9.5",
           "Nicotine",
           "Alpha",
           "Increase",
           "green"
          ],
          [
           "(?)",
           "10.0",
           "PQ912",
           "Alpha",
           "(?)",
           "green"
          ],
          [
           "Engel et al. (1992)",
           "9.0",
           "Phosphatidylserine",
           "Alpha",
           "Decrease",
           "green"
          ],
          [
           "Heiss et al. (1994)",
           "6.0",
           "Pyritinol + CT",
           "Alpha",
           "No Change",
           "red"
          ],
          [
           "Scheltens et al. (2012), de Waal et al. (2014)",
           "9.0, 9.0",
           "Souvenaid",
           "Alpha",
           "No Change",
           "green"
          ],
          [
           "Minthon et al. (1993)",
           "9.0",
           "THA",
           "Alpha",
           "Decrease",
           "green"
          ],
          [
           "Almkvist et al. (2001)",
           "9.0",
           "Tacrine",
           "Alpha",
           "Increase",
           "green"
          ],
          [
           "Vijverberg et al. (2024)",
           "10.0",
           "CT1812",
           "Beta",
           "No Change",
           "green"
          ],
          [
           "Alvarez et al. (1999)",
           "9.5",
           "Citicoline",
           "Beta",
           "Increase",
           "green"
          ],
          [
           "Mohr et al. (1995)",
           "9.0",
           "Cycloserine",
           "Beta",
           "No Change",
           "green"
          ],
          [
           "Saletu et al. (1992)",
           "8.5",
           "Denbufylline",
           "Beta",
           "No Change",
           "orange"
          ],
          [
           "(?)",
           "(?)",
           "Ibuprofen",
           "Beta",
           "(?)",
           "green"
          ],
          [
           "Grossmann et al. (1990)",
           "10.0",
           "Naftidrofuryl",
           "Beta",
           "Decrease",
           "green"
          ],
          [
           "Saletu et al. (1995)",
           "9.0",
           "Nicergoline",
           "Beta",
           "Increase",
           "green"
          ],
          [
           "Knott et al. (2000)",
           "9.5",
           "Nicotine",
           "Beta",
           "Increase",
           "green"
          ],
          [
           "Scheltens et al. (2018), Briels et al. (2020)",
           "10.0, 10.0",
           "PQ912",
           "Beta",
           "No Change",
           "green"
          ],
          [
           "Engel et al. (1992)",
           "9.0",
           "Phosphatidylserine",
           "Beta",
           "Decrease",
           "green"
          ],
          [
           "Heiss et al. (1994)",
           "6.0",
           "Pyritinol + CT",
           "Beta",
           "No Change",
           "red"
          ],
          [
           "(?)",
           "9.0",
           "Souvenaid",
           "Beta",
           "(?)",
           "green"
          ],
          [
           "Minthon et al. (1993)",
           "9.0",
           "THA",
           "Beta",
           "Decrease",
           "green"
          ],
          [
           "Almkvist et al. (2001)",
           "9.0",
           "Tacrine",
           "Beta",
           "Increase",
           "green"
          ],
          [
           "Vijverberg et al. (2024)",
           "10.0",
           "CT1812",
           "Delta",
           "No Change",
           "green"
          ],
          [
           "Alvarez et al. (1999)",
           "9.5",
           "Citicoline",
           "Delta",
           "Decrease",
           "green"
          ],
          [
           "Mohr et al. (1995)",
           "9.0",
           "Cycloserine",
           "Delta",
           "No Change",
           "green"
          ],
          [
           "Saletu et al. (1992)",
           "8.5",
           "Denbufylline",
           "Delta",
           "Decrease",
           "orange"
          ],
          [
           "(?)",
           "(?)",
           "Ibuprofen",
           "Delta",
           "(?)",
           "green"
          ],
          [
           "Grossmann et al. (1990)",
           "10.0",
           "Naftidrofuryl",
           "Delta",
           "Decrease",
           "green"
          ],
          [
           "Saletu et al. (1995)",
           "9.0",
           "Nicergoline",
           "Delta",
           "Decrease",
           "green"
          ],
          [
           "Knott et al. (2000)",
           "9.5",
           "Nicotine",
           "Delta",
           "Decrease",
           "green"
          ],
          [
           "Scheltens et al. (2018), Briels et al. (2020)",
           "10.0, 10.0",
           "PQ912",
           "Delta",
           "No Change",
           "green"
          ],
          [
           "Engel et al. (1992)",
           "9.0",
           "Phosphatidylserine",
           "Delta",
           "No Change",
           "green"
          ],
          [
           "Heiss et al. (1994)",
           "6.0",
           "Pyritinol + CT",
           "Delta",
           "No Change",
           "red"
          ],
          [
           "(?)",
           "9.0",
           "Souvenaid",
           "Delta",
           "(?)",
           "green"
          ],
          [
           "Minthon et al. (1993)",
           "9.0",
           "THA",
           "Delta",
           "Decrease",
           "green"
          ],
          [
           "Almkvist et al. (2001)",
           "9.0",
           "Tacrine",
           "Delta",
           "Decrease",
           "green"
          ],
          [
           "Babiloni et al. (2006)",
           "9.0",
           "Ibuprofen",
           "Gamma",
           "Increase",
           "green"
          ],
          [
           "Scheltens et al. (2012)",
           "9.0",
           "Souvenaid",
           "Gamma",
           "No Change",
           "green"
          ],
          [
           "Vijverberg et al. (2024)",
           "10.0",
           "CT1812",
           "Theta",
           "Decrease",
           "green"
          ],
          [
           "Alvarez et al. (1999)",
           "9.5",
           "Citicoline",
           "Theta",
           "Increase",
           "green"
          ],
          [
           "Mohr et al. (1995)",
           "9.0",
           "Cycloserine",
           "Theta",
           "No Change",
           "green"
          ],
          [
           "Saletu et al. (1992)",
           "8.5",
           "Denbufylline",
           "Theta",
           "No Change",
           "orange"
          ],
          [
           "Babiloni et al. (2009), Babiloni et al. (2006)",
           "9.5, 9.0",
           "Ibuprofen",
           "Theta",
           "No Change",
           "green"
          ],
          [
           "Grossmann et al. (1990)",
           "10.0",
           "Naftidrofuryl",
           "Theta",
           "Increase",
           "green"
          ],
          [
           "Saletu et al. (1995)",
           "9.0",
           "Nicergoline",
           "Theta",
           "Decrease",
           "green"
          ],
          [
           "Knott et al. (2000)",
           "9.5",
           "Nicotine",
           "Theta",
           "Decrease",
           "green"
          ],
          [
           "(?)",
           "10.0",
           "PQ912",
           "Theta",
           "(?)",
           "green"
          ],
          [
           "Engel et al. (1992)",
           "9.0",
           "Phosphatidylserine",
           "Theta",
           "Decrease",
           "green"
          ],
          [
           "Heiss et al. (1994)",
           "6.0",
           "Pyritinol + CT",
           "Theta",
           "Increase",
           "red"
          ],
          [
           "Scheltens et al. (2012), de Waal et al. (2014)",
           "9.0, 9.0",
           "Souvenaid",
           "Theta",
           "No Change",
           "green"
          ],
          [
           "Minthon et al. (1993)",
           "9.0",
           "THA",
           "Theta",
           "Decrease",
           "green"
          ],
          [
           "Almkvist et al. (2001)",
           "9.0",
           "Tacrine",
           "Theta",
           "Decrease",
           "green"
          ],
          [
           "Vijverberg et al. (2024)",
           "10.0",
           "CT1812",
           "(?)",
           "(?)",
           "green"
          ],
          [
           "Alvarez et al. (1999)",
           "9.5",
           "Citicoline",
           "(?)",
           "(?)",
           "green"
          ],
          [
           "Mohr et al. (1995)",
           "9.0",
           "Cycloserine",
           "(?)",
           "No Change",
           "green"
          ],
          [
           "Saletu et al. (1992)",
           "8.5",
           "Denbufylline",
           "(?)",
           "(?)",
           "orange"
          ],
          [
           "(?)",
           "(?)",
           "Ibuprofen",
           "(?)",
           "(?)",
           "green"
          ],
          [
           "Grossmann et al. (1990)",
           "10.0",
           "Naftidrofuryl",
           "(?)",
           "(?)",
           "green"
          ],
          [
           "Saletu et al. (1995)",
           "9.0",
           "Nicergoline",
           "(?)",
           "(?)",
           "green"
          ],
          [
           "Knott et al. (2000)",
           "9.5",
           "Nicotine",
           "(?)",
           "(?)",
           "green"
          ],
          [
           "(?)",
           "(?)",
           "PQ912",
           "(?)",
           "(?)",
           "green"
          ],
          [
           "Engel et al. (1992)",
           "9.0",
           "Phosphatidylserine",
           "(?)",
           "(?)",
           "green"
          ],
          [
           "Heiss et al. (1994)",
           "6.0",
           "Pyritinol + CT",
           "(?)",
           "(?)",
           "red"
          ],
          [
           "(?)",
           "(?)",
           "Souvenaid",
           "(?)",
           "(?)",
           "green"
          ],
          [
           "Minthon et al. (1993)",
           "9.0",
           "THA",
           "(?)",
           "Decrease",
           "green"
          ],
          [
           "Almkvist et al. (2001)",
           "9.0",
           "Tacrine",
           "(?)",
           "(?)",
           "green"
          ]
         ],
         "domain": {
          "x": [
           0,
           1
          ],
          "y": [
           0,
           1
          ]
         },
         "hovertemplate": "labels=%{label}<br>count=%{value}<br>parent=%{parent}<br>id=%{id}<br>Study=%{customdata[0]}<br>CASP=%{customdata[1]}<br>Intervention=%{customdata[2]}<br>Frequency_Band=%{customdata[3]}<br>Effect_Label=%{customdata[4]}<extra></extra>",
         "ids": [
          "Phosphatidylserine/Alpha/Decrease",
          "Souvenaid/Delta/Increase",
          "Ibuprofen/Gamma/Increase",
          "Citicoline/Theta/Increase",
          "Naftidrofuryl/Theta/Increase",
          "Pyritinol + CT/Theta/Increase",
          "Citicoline/Alpha/No Change",
          "Cycloserine/Alpha/No Change",
          "Denbufylline/Alpha/No Change",
          "Ibuprofen/Alpha/No Change",
          "PQ912/Alpha/No Change",
          "Pyritinol + CT/Alpha/No Change",
          "Souvenaid/Alpha/No Change",
          "PQ912/Theta/No Change",
          "CT1812/Beta/No Change",
          "Souvenaid/Beta/No Change",
          "CT1812/Delta/No Change",
          "Cycloserine/Delta/No Change",
          "Ibuprofen/Delta/No Change",
          "PQ912/Delta/No Change",
          "Phosphatidylserine/Delta/No Change",
          "Pyritinol + CT/Delta/No Change",
          "Souvenaid/Delta/No Change",
          "Souvenaid/Gamma/No Change",
          "Cycloserine/Theta/No Change",
          "Denbufylline/Theta/No Change",
          "Ibuprofen/Theta/No Change",
          "Pyritinol + CT/Beta/No Change",
          "Souvenaid/Beta/Increase",
          "Tacrine/Beta/Increase",
          "Nicergoline/Beta/Increase",
          "THA/Alpha/Decrease",
          "Naftidrofuryl/Beta/Decrease",
          "Phosphatidylserine/Beta/Decrease",
          "THA/Beta/Decrease",
          "Citicoline/Delta/Decrease",
          "Denbufylline/Delta/Decrease",
          "Ibuprofen/Delta/Decrease",
          "Naftidrofuryl/Delta/Decrease",
          "Nicergoline/Delta/Decrease",
          "Nicotine/Delta/Decrease",
          "THA/Delta/Decrease",
          "Nicotine/Beta/Increase",
          "Souvenaid/Theta/No Change",
          "Tacrine/Theta/Decrease",
          "Ibuprofen/Beta/Increase",
          "PQ912/Theta/Decrease",
          "Citicoline/Beta/Increase",
          "Tacrine/Alpha/Increase",
          "PQ912/Alpha/Increase",
          "Nicotine/Alpha/Increase",
          "Phosphatidylserine/Theta/Decrease",
          "THA/Theta/Decrease",
          "Nicergoline/Alpha/Increase",
          "CT1812/Alpha/Increase",
          "Naftidrofuryl/Alpha/Increase",
          "Nicergoline/Theta/Decrease",
          "Tacrine/Delta/Decrease",
          "CT1812/Theta/Decrease",
          "Nicotine/Theta/Decrease",
          "PQ912/Beta/No Change",
          "Ibuprofen/Beta/No Change",
          "Cycloserine/Beta/No Change",
          "Denbufylline/Beta/No Change",
          "CT1812/Alpha",
          "Citicoline/Alpha",
          "Cycloserine/Alpha",
          "Denbufylline/Alpha",
          "Ibuprofen/Alpha",
          "Naftidrofuryl/Alpha",
          "Nicergoline/Alpha",
          "Nicotine/Alpha",
          "PQ912/Alpha",
          "Phosphatidylserine/Alpha",
          "Pyritinol + CT/Alpha",
          "Souvenaid/Alpha",
          "THA/Alpha",
          "Tacrine/Alpha",
          "CT1812/Beta",
          "Citicoline/Beta",
          "Cycloserine/Beta",
          "Denbufylline/Beta",
          "Ibuprofen/Beta",
          "Naftidrofuryl/Beta",
          "Nicergoline/Beta",
          "Nicotine/Beta",
          "PQ912/Beta",
          "Phosphatidylserine/Beta",
          "Pyritinol + CT/Beta",
          "Souvenaid/Beta",
          "THA/Beta",
          "Tacrine/Beta",
          "CT1812/Delta",
          "Citicoline/Delta",
          "Cycloserine/Delta",
          "Denbufylline/Delta",
          "Ibuprofen/Delta",
          "Naftidrofuryl/Delta",
          "Nicergoline/Delta",
          "Nicotine/Delta",
          "PQ912/Delta",
          "Phosphatidylserine/Delta",
          "Pyritinol + CT/Delta",
          "Souvenaid/Delta",
          "THA/Delta",
          "Tacrine/Delta",
          "Ibuprofen/Gamma",
          "Souvenaid/Gamma",
          "CT1812/Theta",
          "Citicoline/Theta",
          "Cycloserine/Theta",
          "Denbufylline/Theta",
          "Ibuprofen/Theta",
          "Naftidrofuryl/Theta",
          "Nicergoline/Theta",
          "Nicotine/Theta",
          "PQ912/Theta",
          "Phosphatidylserine/Theta",
          "Pyritinol + CT/Theta",
          "Souvenaid/Theta",
          "THA/Theta",
          "Tacrine/Theta",
          "CT1812",
          "Citicoline",
          "Cycloserine",
          "Denbufylline",
          "Ibuprofen",
          "Naftidrofuryl",
          "Nicergoline",
          "Nicotine",
          "PQ912",
          "Phosphatidylserine",
          "Pyritinol + CT",
          "Souvenaid",
          "THA",
          "Tacrine"
         ],
         "insidetextorientation": "radial",
         "labels": [
          "Decrease",
          "Increase",
          "Increase",
          "Increase",
          "Increase",
          "Increase",
          "No Change",
          "No Change",
          "No Change",
          "No Change",
          "No Change",
          "No Change",
          "No Change",
          "No Change",
          "No Change",
          "No Change",
          "No Change",
          "No Change",
          "No Change",
          "No Change",
          "No Change",
          "No Change",
          "No Change",
          "No Change",
          "No Change",
          "No Change",
          "No Change",
          "No Change",
          "Increase",
          "Increase",
          "Increase",
          "Decrease",
          "Decrease",
          "Decrease",
          "Decrease",
          "Decrease",
          "Decrease",
          "Decrease",
          "Decrease",
          "Decrease",
          "Decrease",
          "Decrease",
          "Increase",
          "No Change",
          "Decrease",
          "Increase",
          "Decrease",
          "Increase",
          "Increase",
          "Increase",
          "Increase",
          "Decrease",
          "Decrease",
          "Increase",
          "Increase",
          "Increase",
          "Decrease",
          "Decrease",
          "Decrease",
          "Decrease",
          "No Change",
          "No Change",
          "No Change",
          "No Change",
          "Alpha",
          "Alpha",
          "Alpha",
          "Alpha",
          "Alpha",
          "Alpha",
          "Alpha",
          "Alpha",
          "Alpha",
          "Alpha",
          "Alpha",
          "Alpha",
          "Alpha",
          "Alpha",
          "Beta",
          "Beta",
          "Beta",
          "Beta",
          "Beta",
          "Beta",
          "Beta",
          "Beta",
          "Beta",
          "Beta",
          "Beta",
          "Beta",
          "Beta",
          "Beta",
          "Delta",
          "Delta",
          "Delta",
          "Delta",
          "Delta",
          "Delta",
          "Delta",
          "Delta",
          "Delta",
          "Delta",
          "Delta",
          "Delta",
          "Delta",
          "Delta",
          "Gamma",
          "Gamma",
          "Theta",
          "Theta",
          "Theta",
          "Theta",
          "Theta",
          "Theta",
          "Theta",
          "Theta",
          "Theta",
          "Theta",
          "Theta",
          "Theta",
          "Theta",
          "Theta",
          "CT1812",
          "Citicoline",
          "Cycloserine",
          "Denbufylline",
          "Ibuprofen",
          "Naftidrofuryl",
          "Nicergoline",
          "Nicotine",
          "PQ912",
          "Phosphatidylserine",
          "Pyritinol + CT",
          "Souvenaid",
          "THA",
          "Tacrine"
         ],
         "marker": {
          "colors": [
           "#6FCF97",
           "#6FCF97",
           "#6FCF97",
           "#6FCF97",
           "#6FCF97",
           "#EB5757",
           "#6FCF97",
           "#6FCF97",
           "#F2C94C",
           "#6FCF97",
           "#6FCF97",
           "#EB5757",
           "#6FCF97",
           "#6FCF97",
           "#6FCF97",
           "#6FCF97",
           "#6FCF97",
           "#6FCF97",
           "#6FCF97",
           "#6FCF97",
           "#6FCF97",
           "#EB5757",
           "#6FCF97",
           "#6FCF97",
           "#6FCF97",
           "#F2C94C",
           "#6FCF97",
           "#EB5757",
           "#6FCF97",
           "#6FCF97",
           "#6FCF97",
           "#6FCF97",
           "#6FCF97",
           "#6FCF97",
           "#6FCF97",
           "#6FCF97",
           "#F2C94C",
           "#6FCF97",
           "#6FCF97",
           "#6FCF97",
           "#6FCF97",
           "#6FCF97",
           "#6FCF97",
           "#6FCF97",
           "#6FCF97",
           "#6FCF97",
           "#6FCF97",
           "#6FCF97",
           "#6FCF97",
           "#6FCF97",
           "#6FCF97",
           "#6FCF97",
           "#6FCF97",
           "#6FCF97",
           "#6FCF97",
           "#6FCF97",
           "#6FCF97",
           "#6FCF97",
           "#6FCF97",
           "#6FCF97",
           "#6FCF97",
           "#6FCF97",
           "#6FCF97",
           "#F2C94C",
           "#BDBDBD",
           "#BDBDBD",
           "#BDBDBD",
           "#BDBDBD",
           "#BDBDBD",
           "#BDBDBD",
           "#BDBDBD",
           "#BDBDBD",
           "#BDBDBD",
           "#BDBDBD",
           "#BDBDBD",
           "#BDBDBD",
           "#BDBDBD",
           "#BDBDBD",
           "#BDBDBD",
           "#BDBDBD",
           "#BDBDBD",
           "#BDBDBD",
           "#BDBDBD",
           "#BDBDBD",
           "#BDBDBD",
           "#BDBDBD",
           "#BDBDBD",
           "#BDBDBD",
           "#BDBDBD",
           "#BDBDBD",
           "#BDBDBD",
           "#BDBDBD",
           "#BDBDBD",
           "#BDBDBD",
           "#BDBDBD",
           "#BDBDBD",
           "#BDBDBD",
           "#BDBDBD",
           "#BDBDBD",
           "#BDBDBD",
           "#BDBDBD",
           "#BDBDBD",
           "#BDBDBD",
           "#BDBDBD",
           "#BDBDBD",
           "#BDBDBD",
           "#BDBDBD",
           "#BDBDBD",
           "#BDBDBD",
           "#BDBDBD",
           "#BDBDBD",
           "#BDBDBD",
           "#BDBDBD",
           "#BDBDBD",
           "#BDBDBD",
           "#BDBDBD",
           "#BDBDBD",
           "#BDBDBD",
           "#BDBDBD",
           "#BDBDBD",
           "#BDBDBD",
           "#BDBDBD",
           "#BDBDBD",
           "#BDBDBD",
           "#BDBDBD",
           "#BDBDBD",
           "#BDBDBD",
           "#BDBDBD",
           "#BDBDBD",
           "#BDBDBD",
           "#BDBDBD",
           "#BDBDBD",
           "#BDBDBD",
           "#BDBDBD",
           "#BDBDBD",
           "#BDBDBD"
          ]
         },
         "name": "",
         "parents": [
          "Phosphatidylserine/Alpha",
          "Souvenaid/Delta",
          "Ibuprofen/Gamma",
          "Citicoline/Theta",
          "Naftidrofuryl/Theta",
          "Pyritinol + CT/Theta",
          "Citicoline/Alpha",
          "Cycloserine/Alpha",
          "Denbufylline/Alpha",
          "Ibuprofen/Alpha",
          "PQ912/Alpha",
          "Pyritinol + CT/Alpha",
          "Souvenaid/Alpha",
          "PQ912/Theta",
          "CT1812/Beta",
          "Souvenaid/Beta",
          "CT1812/Delta",
          "Cycloserine/Delta",
          "Ibuprofen/Delta",
          "PQ912/Delta",
          "Phosphatidylserine/Delta",
          "Pyritinol + CT/Delta",
          "Souvenaid/Delta",
          "Souvenaid/Gamma",
          "Cycloserine/Theta",
          "Denbufylline/Theta",
          "Ibuprofen/Theta",
          "Pyritinol + CT/Beta",
          "Souvenaid/Beta",
          "Tacrine/Beta",
          "Nicergoline/Beta",
          "THA/Alpha",
          "Naftidrofuryl/Beta",
          "Phosphatidylserine/Beta",
          "THA/Beta",
          "Citicoline/Delta",
          "Denbufylline/Delta",
          "Ibuprofen/Delta",
          "Naftidrofuryl/Delta",
          "Nicergoline/Delta",
          "Nicotine/Delta",
          "THA/Delta",
          "Nicotine/Beta",
          "Souvenaid/Theta",
          "Tacrine/Theta",
          "Ibuprofen/Beta",
          "PQ912/Theta",
          "Citicoline/Beta",
          "Tacrine/Alpha",
          "PQ912/Alpha",
          "Nicotine/Alpha",
          "Phosphatidylserine/Theta",
          "THA/Theta",
          "Nicergoline/Alpha",
          "CT1812/Alpha",
          "Naftidrofuryl/Alpha",
          "Nicergoline/Theta",
          "Tacrine/Delta",
          "CT1812/Theta",
          "Nicotine/Theta",
          "PQ912/Beta",
          "Ibuprofen/Beta",
          "Cycloserine/Beta",
          "Denbufylline/Beta",
          "CT1812",
          "Citicoline",
          "Cycloserine",
          "Denbufylline",
          "Ibuprofen",
          "Naftidrofuryl",
          "Nicergoline",
          "Nicotine",
          "PQ912",
          "Phosphatidylserine",
          "Pyritinol + CT",
          "Souvenaid",
          "THA",
          "Tacrine",
          "CT1812",
          "Citicoline",
          "Cycloserine",
          "Denbufylline",
          "Ibuprofen",
          "Naftidrofuryl",
          "Nicergoline",
          "Nicotine",
          "PQ912",
          "Phosphatidylserine",
          "Pyritinol + CT",
          "Souvenaid",
          "THA",
          "Tacrine",
          "CT1812",
          "Citicoline",
          "Cycloserine",
          "Denbufylline",
          "Ibuprofen",
          "Naftidrofuryl",
          "Nicergoline",
          "Nicotine",
          "PQ912",
          "Phosphatidylserine",
          "Pyritinol + CT",
          "Souvenaid",
          "THA",
          "Tacrine",
          "Ibuprofen",
          "Souvenaid",
          "CT1812",
          "Citicoline",
          "Cycloserine",
          "Denbufylline",
          "Ibuprofen",
          "Naftidrofuryl",
          "Nicergoline",
          "Nicotine",
          "PQ912",
          "Phosphatidylserine",
          "Pyritinol + CT",
          "Souvenaid",
          "THA",
          "Tacrine",
          "",
          "",
          "",
          "",
          "",
          "",
          "",
          "",
          "",
          "",
          "",
          "",
          "",
          ""
         ],
         "type": "sunburst",
         "values": [
          1,
          1,
          1,
          1,
          1,
          1,
          1,
          1,
          1,
          1,
          1,
          1,
          1,
          1,
          1,
          1,
          1,
          1,
          1,
          1,
          1,
          1,
          1,
          1,
          1,
          1,
          1,
          1,
          1,
          1,
          1,
          1,
          1,
          1,
          1,
          1,
          1,
          1,
          1,
          1,
          1,
          1,
          1,
          1,
          1,
          1,
          1,
          1,
          1,
          1,
          1,
          1,
          1,
          1,
          1,
          1,
          1,
          1,
          1,
          1,
          1,
          1,
          1,
          1,
          1,
          1,
          1,
          1,
          1,
          1,
          1,
          1,
          2,
          1,
          1,
          1,
          1,
          1,
          1,
          1,
          1,
          1,
          2,
          1,
          1,
          1,
          1,
          1,
          1,
          2,
          1,
          1,
          1,
          1,
          1,
          1,
          2,
          1,
          1,
          1,
          1,
          1,
          1,
          2,
          1,
          1,
          1,
          1,
          1,
          1,
          1,
          1,
          1,
          1,
          1,
          1,
          2,
          1,
          1,
          1,
          1,
          1,
          4,
          4,
          4,
          4,
          7,
          4,
          4,
          4,
          6,
          4,
          4,
          7,
          4,
          4
         ]
        }
       ],
       "layout": {
        "height": 1100,
        "legend": {
         "tracegroupgap": 0
        },
        "template": {
         "data": {
          "bar": [
           {
            "error_x": {
             "color": "#2a3f5f"
            },
            "error_y": {
             "color": "#2a3f5f"
            },
            "marker": {
             "line": {
              "color": "#E5ECF6",
              "width": 0.5
             },
             "pattern": {
              "fillmode": "overlay",
              "size": 10,
              "solidity": 0.2
             }
            },
            "type": "bar"
           }
          ],
          "barpolar": [
           {
            "marker": {
             "line": {
              "color": "#E5ECF6",
              "width": 0.5
             },
             "pattern": {
              "fillmode": "overlay",
              "size": 10,
              "solidity": 0.2
             }
            },
            "type": "barpolar"
           }
          ],
          "carpet": [
           {
            "aaxis": {
             "endlinecolor": "#2a3f5f",
             "gridcolor": "white",
             "linecolor": "white",
             "minorgridcolor": "white",
             "startlinecolor": "#2a3f5f"
            },
            "baxis": {
             "endlinecolor": "#2a3f5f",
             "gridcolor": "white",
             "linecolor": "white",
             "minorgridcolor": "white",
             "startlinecolor": "#2a3f5f"
            },
            "type": "carpet"
           }
          ],
          "choropleth": [
           {
            "colorbar": {
             "outlinewidth": 0,
             "ticks": ""
            },
            "type": "choropleth"
           }
          ],
          "contour": [
           {
            "colorbar": {
             "outlinewidth": 0,
             "ticks": ""
            },
            "colorscale": [
             [
              0,
              "#0d0887"
             ],
             [
              0.1111111111111111,
              "#46039f"
             ],
             [
              0.2222222222222222,
              "#7201a8"
             ],
             [
              0.3333333333333333,
              "#9c179e"
             ],
             [
              0.4444444444444444,
              "#bd3786"
             ],
             [
              0.5555555555555556,
              "#d8576b"
             ],
             [
              0.6666666666666666,
              "#ed7953"
             ],
             [
              0.7777777777777778,
              "#fb9f3a"
             ],
             [
              0.8888888888888888,
              "#fdca26"
             ],
             [
              1,
              "#f0f921"
             ]
            ],
            "type": "contour"
           }
          ],
          "contourcarpet": [
           {
            "colorbar": {
             "outlinewidth": 0,
             "ticks": ""
            },
            "type": "contourcarpet"
           }
          ],
          "heatmap": [
           {
            "colorbar": {
             "outlinewidth": 0,
             "ticks": ""
            },
            "colorscale": [
             [
              0,
              "#0d0887"
             ],
             [
              0.1111111111111111,
              "#46039f"
             ],
             [
              0.2222222222222222,
              "#7201a8"
             ],
             [
              0.3333333333333333,
              "#9c179e"
             ],
             [
              0.4444444444444444,
              "#bd3786"
             ],
             [
              0.5555555555555556,
              "#d8576b"
             ],
             [
              0.6666666666666666,
              "#ed7953"
             ],
             [
              0.7777777777777778,
              "#fb9f3a"
             ],
             [
              0.8888888888888888,
              "#fdca26"
             ],
             [
              1,
              "#f0f921"
             ]
            ],
            "type": "heatmap"
           }
          ],
          "heatmapgl": [
           {
            "colorbar": {
             "outlinewidth": 0,
             "ticks": ""
            },
            "colorscale": [
             [
              0,
              "#0d0887"
             ],
             [
              0.1111111111111111,
              "#46039f"
             ],
             [
              0.2222222222222222,
              "#7201a8"
             ],
             [
              0.3333333333333333,
              "#9c179e"
             ],
             [
              0.4444444444444444,
              "#bd3786"
             ],
             [
              0.5555555555555556,
              "#d8576b"
             ],
             [
              0.6666666666666666,
              "#ed7953"
             ],
             [
              0.7777777777777778,
              "#fb9f3a"
             ],
             [
              0.8888888888888888,
              "#fdca26"
             ],
             [
              1,
              "#f0f921"
             ]
            ],
            "type": "heatmapgl"
           }
          ],
          "histogram": [
           {
            "marker": {
             "pattern": {
              "fillmode": "overlay",
              "size": 10,
              "solidity": 0.2
             }
            },
            "type": "histogram"
           }
          ],
          "histogram2d": [
           {
            "colorbar": {
             "outlinewidth": 0,
             "ticks": ""
            },
            "colorscale": [
             [
              0,
              "#0d0887"
             ],
             [
              0.1111111111111111,
              "#46039f"
             ],
             [
              0.2222222222222222,
              "#7201a8"
             ],
             [
              0.3333333333333333,
              "#9c179e"
             ],
             [
              0.4444444444444444,
              "#bd3786"
             ],
             [
              0.5555555555555556,
              "#d8576b"
             ],
             [
              0.6666666666666666,
              "#ed7953"
             ],
             [
              0.7777777777777778,
              "#fb9f3a"
             ],
             [
              0.8888888888888888,
              "#fdca26"
             ],
             [
              1,
              "#f0f921"
             ]
            ],
            "type": "histogram2d"
           }
          ],
          "histogram2dcontour": [
           {
            "colorbar": {
             "outlinewidth": 0,
             "ticks": ""
            },
            "colorscale": [
             [
              0,
              "#0d0887"
             ],
             [
              0.1111111111111111,
              "#46039f"
             ],
             [
              0.2222222222222222,
              "#7201a8"
             ],
             [
              0.3333333333333333,
              "#9c179e"
             ],
             [
              0.4444444444444444,
              "#bd3786"
             ],
             [
              0.5555555555555556,
              "#d8576b"
             ],
             [
              0.6666666666666666,
              "#ed7953"
             ],
             [
              0.7777777777777778,
              "#fb9f3a"
             ],
             [
              0.8888888888888888,
              "#fdca26"
             ],
             [
              1,
              "#f0f921"
             ]
            ],
            "type": "histogram2dcontour"
           }
          ],
          "mesh3d": [
           {
            "colorbar": {
             "outlinewidth": 0,
             "ticks": ""
            },
            "type": "mesh3d"
           }
          ],
          "parcoords": [
           {
            "line": {
             "colorbar": {
              "outlinewidth": 0,
              "ticks": ""
             }
            },
            "type": "parcoords"
           }
          ],
          "pie": [
           {
            "automargin": true,
            "type": "pie"
           }
          ],
          "scatter": [
           {
            "fillpattern": {
             "fillmode": "overlay",
             "size": 10,
             "solidity": 0.2
            },
            "type": "scatter"
           }
          ],
          "scatter3d": [
           {
            "line": {
             "colorbar": {
              "outlinewidth": 0,
              "ticks": ""
             }
            },
            "marker": {
             "colorbar": {
              "outlinewidth": 0,
              "ticks": ""
             }
            },
            "type": "scatter3d"
           }
          ],
          "scattercarpet": [
           {
            "marker": {
             "colorbar": {
              "outlinewidth": 0,
              "ticks": ""
             }
            },
            "type": "scattercarpet"
           }
          ],
          "scattergeo": [
           {
            "marker": {
             "colorbar": {
              "outlinewidth": 0,
              "ticks": ""
             }
            },
            "type": "scattergeo"
           }
          ],
          "scattergl": [
           {
            "marker": {
             "colorbar": {
              "outlinewidth": 0,
              "ticks": ""
             }
            },
            "type": "scattergl"
           }
          ],
          "scattermapbox": [
           {
            "marker": {
             "colorbar": {
              "outlinewidth": 0,
              "ticks": ""
             }
            },
            "type": "scattermapbox"
           }
          ],
          "scatterpolar": [
           {
            "marker": {
             "colorbar": {
              "outlinewidth": 0,
              "ticks": ""
             }
            },
            "type": "scatterpolar"
           }
          ],
          "scatterpolargl": [
           {
            "marker": {
             "colorbar": {
              "outlinewidth": 0,
              "ticks": ""
             }
            },
            "type": "scatterpolargl"
           }
          ],
          "scatterternary": [
           {
            "marker": {
             "colorbar": {
              "outlinewidth": 0,
              "ticks": ""
             }
            },
            "type": "scatterternary"
           }
          ],
          "surface": [
           {
            "colorbar": {
             "outlinewidth": 0,
             "ticks": ""
            },
            "colorscale": [
             [
              0,
              "#0d0887"
             ],
             [
              0.1111111111111111,
              "#46039f"
             ],
             [
              0.2222222222222222,
              "#7201a8"
             ],
             [
              0.3333333333333333,
              "#9c179e"
             ],
             [
              0.4444444444444444,
              "#bd3786"
             ],
             [
              0.5555555555555556,
              "#d8576b"
             ],
             [
              0.6666666666666666,
              "#ed7953"
             ],
             [
              0.7777777777777778,
              "#fb9f3a"
             ],
             [
              0.8888888888888888,
              "#fdca26"
             ],
             [
              1,
              "#f0f921"
             ]
            ],
            "type": "surface"
           }
          ],
          "table": [
           {
            "cells": {
             "fill": {
              "color": "#EBF0F8"
             },
             "line": {
              "color": "white"
             }
            },
            "header": {
             "fill": {
              "color": "#C8D4E3"
             },
             "line": {
              "color": "white"
             }
            },
            "type": "table"
           }
          ]
         },
         "layout": {
          "annotationdefaults": {
           "arrowcolor": "#2a3f5f",
           "arrowhead": 0,
           "arrowwidth": 1
          },
          "autotypenumbers": "strict",
          "coloraxis": {
           "colorbar": {
            "outlinewidth": 0,
            "ticks": ""
           }
          },
          "colorscale": {
           "diverging": [
            [
             0,
             "#8e0152"
            ],
            [
             0.1,
             "#c51b7d"
            ],
            [
             0.2,
             "#de77ae"
            ],
            [
             0.3,
             "#f1b6da"
            ],
            [
             0.4,
             "#fde0ef"
            ],
            [
             0.5,
             "#f7f7f7"
            ],
            [
             0.6,
             "#e6f5d0"
            ],
            [
             0.7,
             "#b8e186"
            ],
            [
             0.8,
             "#7fbc41"
            ],
            [
             0.9,
             "#4d9221"
            ],
            [
             1,
             "#276419"
            ]
           ],
           "sequential": [
            [
             0,
             "#0d0887"
            ],
            [
             0.1111111111111111,
             "#46039f"
            ],
            [
             0.2222222222222222,
             "#7201a8"
            ],
            [
             0.3333333333333333,
             "#9c179e"
            ],
            [
             0.4444444444444444,
             "#bd3786"
            ],
            [
             0.5555555555555556,
             "#d8576b"
            ],
            [
             0.6666666666666666,
             "#ed7953"
            ],
            [
             0.7777777777777778,
             "#fb9f3a"
            ],
            [
             0.8888888888888888,
             "#fdca26"
            ],
            [
             1,
             "#f0f921"
            ]
           ],
           "sequentialminus": [
            [
             0,
             "#0d0887"
            ],
            [
             0.1111111111111111,
             "#46039f"
            ],
            [
             0.2222222222222222,
             "#7201a8"
            ],
            [
             0.3333333333333333,
             "#9c179e"
            ],
            [
             0.4444444444444444,
             "#bd3786"
            ],
            [
             0.5555555555555556,
             "#d8576b"
            ],
            [
             0.6666666666666666,
             "#ed7953"
            ],
            [
             0.7777777777777778,
             "#fb9f3a"
            ],
            [
             0.8888888888888888,
             "#fdca26"
            ],
            [
             1,
             "#f0f921"
            ]
           ]
          },
          "colorway": [
           "#636efa",
           "#EF553B",
           "#00cc96",
           "#ab63fa",
           "#FFA15A",
           "#19d3f3",
           "#FF6692",
           "#B6E880",
           "#FF97FF",
           "#FECB52"
          ],
          "font": {
           "color": "#2a3f5f"
          },
          "geo": {
           "bgcolor": "white",
           "lakecolor": "white",
           "landcolor": "#E5ECF6",
           "showlakes": true,
           "showland": true,
           "subunitcolor": "white"
          },
          "hoverlabel": {
           "align": "left"
          },
          "hovermode": "closest",
          "mapbox": {
           "style": "light"
          },
          "paper_bgcolor": "white",
          "plot_bgcolor": "#E5ECF6",
          "polar": {
           "angularaxis": {
            "gridcolor": "white",
            "linecolor": "white",
            "ticks": ""
           },
           "bgcolor": "#E5ECF6",
           "radialaxis": {
            "gridcolor": "white",
            "linecolor": "white",
            "ticks": ""
           }
          },
          "scene": {
           "xaxis": {
            "backgroundcolor": "#E5ECF6",
            "gridcolor": "white",
            "gridwidth": 2,
            "linecolor": "white",
            "showbackground": true,
            "ticks": "",
            "zerolinecolor": "white"
           },
           "yaxis": {
            "backgroundcolor": "#E5ECF6",
            "gridcolor": "white",
            "gridwidth": 2,
            "linecolor": "white",
            "showbackground": true,
            "ticks": "",
            "zerolinecolor": "white"
           },
           "zaxis": {
            "backgroundcolor": "#E5ECF6",
            "gridcolor": "white",
            "gridwidth": 2,
            "linecolor": "white",
            "showbackground": true,
            "ticks": "",
            "zerolinecolor": "white"
           }
          },
          "shapedefaults": {
           "line": {
            "color": "#2a3f5f"
           }
          },
          "ternary": {
           "aaxis": {
            "gridcolor": "white",
            "linecolor": "white",
            "ticks": ""
           },
           "baxis": {
            "gridcolor": "white",
            "linecolor": "white",
            "ticks": ""
           },
           "bgcolor": "#E5ECF6",
           "caxis": {
            "gridcolor": "white",
            "linecolor": "white",
            "ticks": ""
           }
          },
          "title": {
           "x": 0.05
          },
          "xaxis": {
           "automargin": true,
           "gridcolor": "white",
           "linecolor": "white",
           "ticks": "",
           "title": {
            "standoff": 15
           },
           "zerolinecolor": "white",
           "zerolinewidth": 2
          },
          "yaxis": {
           "automargin": true,
           "gridcolor": "white",
           "linecolor": "white",
           "ticks": "",
           "title": {
            "standoff": 15
           },
           "zerolinecolor": "white",
           "zerolinewidth": 2
          }
         }
        },
        "title": {
         "text": "EEG Effects of Medication Interventions"
        },
        "width": 1100
       }
      }
     },
     "metadata": {},
     "output_type": "display_data"
    },
    {
     "data": {
      "application/vnd.plotly.v1+json": {
       "config": {
        "plotlyServerURL": "https://plot.ly"
       },
       "data": [
        {
         "branchvalues": "total",
         "customdata": [
          [
           "Gangemi et al. (2021)",
           "9.0",
           "tDCS",
           "Alpha",
           "Decrease",
           "green"
          ],
          [
           "Hoy et al. (2023)",
           "8.0",
           "iTBS",
           "Theta",
           "No Change",
           "orange"
          ],
          [
           "Gangemi et al. (2021) - long-term",
           "9.0",
           "tDCS",
           "Gamma",
           "No Change",
           "green"
          ],
          [
           "Vecchio et al. (2022), Koch et al. (2018)",
           "8.0, 10.0",
           "rTMS",
           "Gamma",
           "No Change",
           "orange"
          ],
          [
           "Gangemi et al. (2021)",
           "9.0",
           "tDCS",
           "Delta",
           "No Change",
           "green"
          ],
          [
           "Koch et al. (2018), Koch et al. (2023)",
           "10.0, 10.0",
           "rTMS",
           "Delta",
           "No Change",
           "green"
          ],
          [
           "Hoy et al. (2023)",
           "8.0",
           "iTBS",
           "Delta",
           "No Change",
           "orange"
          ],
          [
           "Benussi et al. (2022)",
           "10.0",
           "Y-tACS",
           "Delta",
           "No Change",
           "green"
          ],
          [
           "Koch et al. (2018), Koch et al. (2023)",
           "10.0, 10.0",
           "rTMS",
           "Beta",
           "No Change",
           "green"
          ],
          [
           "Koch et al. (2018), Koch et al. (2023)",
           "10.0, 10.0",
           "rTMS",
           "Alpha",
           "No Change",
           "green"
          ],
          [
           "Benussi et al. (2022)",
           "10.0",
           "Y-tACS",
           "Alpha",
           "No Change",
           "green"
          ],
          [
           "Andrade et al. (2022)",
           "10.0",
           "tDCS",
           "Theta",
           "Increase",
           "green"
          ],
          [
           "Vecchio et al. (2022), Koch et al. (2018)",
           "8.0, 10.0",
           "rTMS",
           "Theta",
           "No Change",
           "orange"
          ],
          [
           "Gangemi et al. (2021), Gangemi et al. (2021) - long-term",
           "9.0, 9.0",
           "tDCS",
           "Theta",
           "No Change",
           "green"
          ],
          [
           "Andrade et al. (2022)",
           "10.0",
           "tDCS",
           "Delta",
           "Increase",
           "green"
          ],
          [
           "Gangemi et al. (2021) - long-term",
           "9.0",
           "tDCS",
           "Delta",
           "Decrease",
           "green"
          ],
          [
           "Vecchio et al. (2022)",
           "8.0",
           "rTMS",
           "Delta",
           "Decrease",
           "orange"
          ],
          [
           "Gangemi et al. (2021), Gangemi et al. (2021) - long-term",
           "9.0, 9.0",
           "tDCS",
           "Beta",
           "Decrease",
           "green"
          ],
          [
           "Vecchio et al. (2022)",
           "8.0",
           "rTMS",
           "Beta",
           "Decrease",
           "orange"
          ],
          [
           "Hoy et al. (2023)",
           "8.0",
           "iTBS",
           "Gamma",
           "Increase",
           "orange"
          ],
          [
           "Benussi et al. (2022)",
           "10.0",
           "Y-tACS",
           "Gamma",
           "Increase",
           "green"
          ],
          [
           "Andrade et al. (2022)",
           "10.0",
           "tDCS",
           "Beta",
           "Increase",
           "green"
          ],
          [
           "Hoy et al. (2023)",
           "8.0",
           "iTBS",
           "Alpha",
           "No Change",
           "orange"
          ],
          [
           "Benussi et al. (2022)",
           "10.0",
           "Y-tACS",
           "Beta",
           "Increase",
           "green"
          ],
          [
           "Hoy et al. (2023)",
           "8.0",
           "iTBS",
           "Beta",
           "No Change",
           "orange"
          ],
          [
           "Andrade et al. (2022), Gangemi et al. (2021) - long-term",
           "10.0, 9.0",
           "tDCS",
           "Alpha",
           "Increase",
           "green"
          ],
          [
           "Vecchio et al. (2022)",
           "8.0",
           "rTMS",
           "Alpha",
           "Increase",
           "orange"
          ],
          [
           "Koch et al. (2023)",
           "10.0",
           "rTMS",
           "Theta",
           "Decrease",
           "green"
          ],
          [
           "Benussi et al. (2022)",
           "10.0",
           "Y-tACS",
           "Theta",
           "Decrease",
           "green"
          ],
          [
           "Koch et al. (2023)",
           "10.0",
           "rTMS",
           "Gamma",
           "Increase",
           "green"
          ],
          [
           "Benussi et al. (2022)",
           "10.0",
           "Y-tACS",
           "Alpha",
           "No Change",
           "green"
          ],
          [
           "Hoy et al. (2023)",
           "8.0",
           "iTBS",
           "Alpha",
           "No Change",
           "orange"
          ],
          [
           "(?)",
           "(?)",
           "rTMS",
           "Alpha",
           "(?)",
           "(?)"
          ],
          [
           "(?)",
           "(?)",
           "tDCS",
           "Alpha",
           "(?)",
           "green"
          ],
          [
           "Benussi et al. (2022)",
           "10.0",
           "Y-tACS",
           "Beta",
           "Increase",
           "green"
          ],
          [
           "Hoy et al. (2023)",
           "8.0",
           "iTBS",
           "Beta",
           "No Change",
           "orange"
          ],
          [
           "(?)",
           "(?)",
           "rTMS",
           "Beta",
           "(?)",
           "(?)"
          ],
          [
           "(?)",
           "(?)",
           "tDCS",
           "Beta",
           "(?)",
           "green"
          ],
          [
           "Benussi et al. (2022)",
           "10.0",
           "Y-tACS",
           "Delta",
           "No Change",
           "green"
          ],
          [
           "Hoy et al. (2023)",
           "8.0",
           "iTBS",
           "Delta",
           "No Change",
           "orange"
          ],
          [
           "(?)",
           "(?)",
           "rTMS",
           "Delta",
           "(?)",
           "(?)"
          ],
          [
           "(?)",
           "(?)",
           "tDCS",
           "Delta",
           "(?)",
           "green"
          ],
          [
           "Benussi et al. (2022)",
           "10.0",
           "Y-tACS",
           "Gamma",
           "Increase",
           "green"
          ],
          [
           "Hoy et al. (2023)",
           "8.0",
           "iTBS",
           "Gamma",
           "Increase",
           "orange"
          ],
          [
           "(?)",
           "(?)",
           "rTMS",
           "Gamma",
           "(?)",
           "(?)"
          ],
          [
           "Gangemi et al. (2021) - long-term",
           "9.0",
           "tDCS",
           "Gamma",
           "No Change",
           "green"
          ],
          [
           "Benussi et al. (2022)",
           "10.0",
           "Y-tACS",
           "Theta",
           "Decrease",
           "green"
          ],
          [
           "Hoy et al. (2023)",
           "8.0",
           "iTBS",
           "Theta",
           "No Change",
           "orange"
          ],
          [
           "(?)",
           "(?)",
           "rTMS",
           "Theta",
           "(?)",
           "(?)"
          ],
          [
           "(?)",
           "(?)",
           "tDCS",
           "Theta",
           "(?)",
           "green"
          ],
          [
           "Benussi et al. (2022)",
           "10.0",
           "Y-tACS",
           "(?)",
           "(?)",
           "green"
          ],
          [
           "Hoy et al. (2023)",
           "8.0",
           "iTBS",
           "(?)",
           "(?)",
           "orange"
          ],
          [
           "(?)",
           "(?)",
           "rTMS",
           "(?)",
           "(?)",
           "(?)"
          ],
          [
           "(?)",
           "(?)",
           "tDCS",
           "(?)",
           "(?)",
           "green"
          ]
         ],
         "domain": {
          "x": [
           0,
           1
          ],
          "y": [
           0,
           1
          ]
         },
         "hovertemplate": "labels=%{label}<br>count=%{value}<br>parent=%{parent}<br>id=%{id}<br>Study=%{customdata[0]}<br>CASP=%{customdata[1]}<br>Intervention_Group=%{customdata[2]}<br>Frequency_Band=%{customdata[3]}<br>Effect_Label=%{customdata[4]}<extra></extra>",
         "ids": [
          "tDCS/Alpha/Decrease",
          "iTBS/Theta/No Change",
          "tDCS/Gamma/No Change",
          "rTMS/Gamma/No Change",
          "tDCS/Delta/No Change",
          "rTMS/Delta/No Change",
          "iTBS/Delta/No Change",
          "Y-tACS/Delta/No Change",
          "rTMS/Beta/No Change",
          "rTMS/Alpha/No Change",
          "Y-tACS/Alpha/No Change",
          "tDCS/Theta/Increase",
          "rTMS/Theta/No Change",
          "tDCS/Theta/No Change",
          "tDCS/Delta/Increase",
          "tDCS/Delta/Decrease",
          "rTMS/Delta/Decrease",
          "tDCS/Beta/Decrease",
          "rTMS/Beta/Decrease",
          "iTBS/Gamma/Increase",
          "Y-tACS/Gamma/Increase",
          "tDCS/Beta/Increase",
          "iTBS/Alpha/No Change",
          "Y-tACS/Beta/Increase",
          "iTBS/Beta/No Change",
          "tDCS/Alpha/Increase",
          "rTMS/Alpha/Increase",
          "rTMS/Theta/Decrease",
          "Y-tACS/Theta/Decrease",
          "rTMS/Gamma/Increase",
          "Y-tACS/Alpha",
          "iTBS/Alpha",
          "rTMS/Alpha",
          "tDCS/Alpha",
          "Y-tACS/Beta",
          "iTBS/Beta",
          "rTMS/Beta",
          "tDCS/Beta",
          "Y-tACS/Delta",
          "iTBS/Delta",
          "rTMS/Delta",
          "tDCS/Delta",
          "Y-tACS/Gamma",
          "iTBS/Gamma",
          "rTMS/Gamma",
          "tDCS/Gamma",
          "Y-tACS/Theta",
          "iTBS/Theta",
          "rTMS/Theta",
          "tDCS/Theta",
          "Y-tACS",
          "iTBS",
          "rTMS",
          "tDCS"
         ],
         "insidetextorientation": "radial",
         "labels": [
          "Decrease",
          "No Change",
          "No Change",
          "No Change",
          "No Change",
          "No Change",
          "No Change",
          "No Change",
          "No Change",
          "No Change",
          "No Change",
          "Increase",
          "No Change",
          "No Change",
          "Increase",
          "Decrease",
          "Decrease",
          "Decrease",
          "Decrease",
          "Increase",
          "Increase",
          "Increase",
          "No Change",
          "Increase",
          "No Change",
          "Increase",
          "Increase",
          "Decrease",
          "Decrease",
          "Increase",
          "Alpha",
          "Alpha",
          "Alpha",
          "Alpha",
          "Beta",
          "Beta",
          "Beta",
          "Beta",
          "Delta",
          "Delta",
          "Delta",
          "Delta",
          "Gamma",
          "Gamma",
          "Gamma",
          "Gamma",
          "Theta",
          "Theta",
          "Theta",
          "Theta",
          "Y-tACS",
          "iTBS",
          "rTMS",
          "tDCS"
         ],
         "marker": {
          "colors": [
           "#6FCF97",
           "#F2C94C",
           "#6FCF97",
           "#F2C94C",
           "#6FCF97",
           "#6FCF97",
           "#F2C94C",
           "#6FCF97",
           "#6FCF97",
           "#6FCF97",
           "#6FCF97",
           "#6FCF97",
           "#F2C94C",
           "#6FCF97",
           "#6FCF97",
           "#6FCF97",
           "#F2C94C",
           "#6FCF97",
           "#F2C94C",
           "#F2C94C",
           "#6FCF97",
           "#6FCF97",
           "#F2C94C",
           "#6FCF97",
           "#F2C94C",
           "#6FCF97",
           "#F2C94C",
           "#6FCF97",
           "#6FCF97",
           "#6FCF97",
           "#BDBDBD",
           "#BDBDBD",
           "#BDBDBD",
           "#BDBDBD",
           "#BDBDBD",
           "#BDBDBD",
           "#BDBDBD",
           "#BDBDBD",
           "#BDBDBD",
           "#BDBDBD",
           "#BDBDBD",
           "#BDBDBD",
           "#BDBDBD",
           "#BDBDBD",
           "#BDBDBD",
           "#BDBDBD",
           "#BDBDBD",
           "#BDBDBD",
           "#BDBDBD",
           "#BDBDBD",
           "#BDBDBD",
           "#BDBDBD",
           "#BDBDBD",
           "#BDBDBD"
          ]
         },
         "name": "",
         "parents": [
          "tDCS/Alpha",
          "iTBS/Theta",
          "tDCS/Gamma",
          "rTMS/Gamma",
          "tDCS/Delta",
          "rTMS/Delta",
          "iTBS/Delta",
          "Y-tACS/Delta",
          "rTMS/Beta",
          "rTMS/Alpha",
          "Y-tACS/Alpha",
          "tDCS/Theta",
          "rTMS/Theta",
          "tDCS/Theta",
          "tDCS/Delta",
          "tDCS/Delta",
          "rTMS/Delta",
          "tDCS/Beta",
          "rTMS/Beta",
          "iTBS/Gamma",
          "Y-tACS/Gamma",
          "tDCS/Beta",
          "iTBS/Alpha",
          "Y-tACS/Beta",
          "iTBS/Beta",
          "tDCS/Alpha",
          "rTMS/Alpha",
          "rTMS/Theta",
          "Y-tACS/Theta",
          "rTMS/Gamma",
          "Y-tACS",
          "iTBS",
          "rTMS",
          "tDCS",
          "Y-tACS",
          "iTBS",
          "rTMS",
          "tDCS",
          "Y-tACS",
          "iTBS",
          "rTMS",
          "tDCS",
          "Y-tACS",
          "iTBS",
          "rTMS",
          "tDCS",
          "Y-tACS",
          "iTBS",
          "rTMS",
          "tDCS",
          "",
          "",
          "",
          ""
         ],
         "type": "sunburst",
         "values": [
          1,
          1,
          1,
          1,
          1,
          1,
          1,
          1,
          1,
          1,
          1,
          1,
          1,
          1,
          1,
          1,
          1,
          1,
          1,
          1,
          1,
          1,
          1,
          1,
          1,
          1,
          1,
          1,
          1,
          1,
          1,
          1,
          2,
          2,
          1,
          1,
          2,
          2,
          1,
          1,
          2,
          3,
          1,
          1,
          2,
          1,
          1,
          1,
          2,
          2,
          5,
          5,
          10,
          10
         ]
        }
       ],
       "layout": {
        "height": 1100,
        "legend": {
         "tracegroupgap": 0
        },
        "template": {
         "data": {
          "bar": [
           {
            "error_x": {
             "color": "#2a3f5f"
            },
            "error_y": {
             "color": "#2a3f5f"
            },
            "marker": {
             "line": {
              "color": "#E5ECF6",
              "width": 0.5
             },
             "pattern": {
              "fillmode": "overlay",
              "size": 10,
              "solidity": 0.2
             }
            },
            "type": "bar"
           }
          ],
          "barpolar": [
           {
            "marker": {
             "line": {
              "color": "#E5ECF6",
              "width": 0.5
             },
             "pattern": {
              "fillmode": "overlay",
              "size": 10,
              "solidity": 0.2
             }
            },
            "type": "barpolar"
           }
          ],
          "carpet": [
           {
            "aaxis": {
             "endlinecolor": "#2a3f5f",
             "gridcolor": "white",
             "linecolor": "white",
             "minorgridcolor": "white",
             "startlinecolor": "#2a3f5f"
            },
            "baxis": {
             "endlinecolor": "#2a3f5f",
             "gridcolor": "white",
             "linecolor": "white",
             "minorgridcolor": "white",
             "startlinecolor": "#2a3f5f"
            },
            "type": "carpet"
           }
          ],
          "choropleth": [
           {
            "colorbar": {
             "outlinewidth": 0,
             "ticks": ""
            },
            "type": "choropleth"
           }
          ],
          "contour": [
           {
            "colorbar": {
             "outlinewidth": 0,
             "ticks": ""
            },
            "colorscale": [
             [
              0,
              "#0d0887"
             ],
             [
              0.1111111111111111,
              "#46039f"
             ],
             [
              0.2222222222222222,
              "#7201a8"
             ],
             [
              0.3333333333333333,
              "#9c179e"
             ],
             [
              0.4444444444444444,
              "#bd3786"
             ],
             [
              0.5555555555555556,
              "#d8576b"
             ],
             [
              0.6666666666666666,
              "#ed7953"
             ],
             [
              0.7777777777777778,
              "#fb9f3a"
             ],
             [
              0.8888888888888888,
              "#fdca26"
             ],
             [
              1,
              "#f0f921"
             ]
            ],
            "type": "contour"
           }
          ],
          "contourcarpet": [
           {
            "colorbar": {
             "outlinewidth": 0,
             "ticks": ""
            },
            "type": "contourcarpet"
           }
          ],
          "heatmap": [
           {
            "colorbar": {
             "outlinewidth": 0,
             "ticks": ""
            },
            "colorscale": [
             [
              0,
              "#0d0887"
             ],
             [
              0.1111111111111111,
              "#46039f"
             ],
             [
              0.2222222222222222,
              "#7201a8"
             ],
             [
              0.3333333333333333,
              "#9c179e"
             ],
             [
              0.4444444444444444,
              "#bd3786"
             ],
             [
              0.5555555555555556,
              "#d8576b"
             ],
             [
              0.6666666666666666,
              "#ed7953"
             ],
             [
              0.7777777777777778,
              "#fb9f3a"
             ],
             [
              0.8888888888888888,
              "#fdca26"
             ],
             [
              1,
              "#f0f921"
             ]
            ],
            "type": "heatmap"
           }
          ],
          "heatmapgl": [
           {
            "colorbar": {
             "outlinewidth": 0,
             "ticks": ""
            },
            "colorscale": [
             [
              0,
              "#0d0887"
             ],
             [
              0.1111111111111111,
              "#46039f"
             ],
             [
              0.2222222222222222,
              "#7201a8"
             ],
             [
              0.3333333333333333,
              "#9c179e"
             ],
             [
              0.4444444444444444,
              "#bd3786"
             ],
             [
              0.5555555555555556,
              "#d8576b"
             ],
             [
              0.6666666666666666,
              "#ed7953"
             ],
             [
              0.7777777777777778,
              "#fb9f3a"
             ],
             [
              0.8888888888888888,
              "#fdca26"
             ],
             [
              1,
              "#f0f921"
             ]
            ],
            "type": "heatmapgl"
           }
          ],
          "histogram": [
           {
            "marker": {
             "pattern": {
              "fillmode": "overlay",
              "size": 10,
              "solidity": 0.2
             }
            },
            "type": "histogram"
           }
          ],
          "histogram2d": [
           {
            "colorbar": {
             "outlinewidth": 0,
             "ticks": ""
            },
            "colorscale": [
             [
              0,
              "#0d0887"
             ],
             [
              0.1111111111111111,
              "#46039f"
             ],
             [
              0.2222222222222222,
              "#7201a8"
             ],
             [
              0.3333333333333333,
              "#9c179e"
             ],
             [
              0.4444444444444444,
              "#bd3786"
             ],
             [
              0.5555555555555556,
              "#d8576b"
             ],
             [
              0.6666666666666666,
              "#ed7953"
             ],
             [
              0.7777777777777778,
              "#fb9f3a"
             ],
             [
              0.8888888888888888,
              "#fdca26"
             ],
             [
              1,
              "#f0f921"
             ]
            ],
            "type": "histogram2d"
           }
          ],
          "histogram2dcontour": [
           {
            "colorbar": {
             "outlinewidth": 0,
             "ticks": ""
            },
            "colorscale": [
             [
              0,
              "#0d0887"
             ],
             [
              0.1111111111111111,
              "#46039f"
             ],
             [
              0.2222222222222222,
              "#7201a8"
             ],
             [
              0.3333333333333333,
              "#9c179e"
             ],
             [
              0.4444444444444444,
              "#bd3786"
             ],
             [
              0.5555555555555556,
              "#d8576b"
             ],
             [
              0.6666666666666666,
              "#ed7953"
             ],
             [
              0.7777777777777778,
              "#fb9f3a"
             ],
             [
              0.8888888888888888,
              "#fdca26"
             ],
             [
              1,
              "#f0f921"
             ]
            ],
            "type": "histogram2dcontour"
           }
          ],
          "mesh3d": [
           {
            "colorbar": {
             "outlinewidth": 0,
             "ticks": ""
            },
            "type": "mesh3d"
           }
          ],
          "parcoords": [
           {
            "line": {
             "colorbar": {
              "outlinewidth": 0,
              "ticks": ""
             }
            },
            "type": "parcoords"
           }
          ],
          "pie": [
           {
            "automargin": true,
            "type": "pie"
           }
          ],
          "scatter": [
           {
            "fillpattern": {
             "fillmode": "overlay",
             "size": 10,
             "solidity": 0.2
            },
            "type": "scatter"
           }
          ],
          "scatter3d": [
           {
            "line": {
             "colorbar": {
              "outlinewidth": 0,
              "ticks": ""
             }
            },
            "marker": {
             "colorbar": {
              "outlinewidth": 0,
              "ticks": ""
             }
            },
            "type": "scatter3d"
           }
          ],
          "scattercarpet": [
           {
            "marker": {
             "colorbar": {
              "outlinewidth": 0,
              "ticks": ""
             }
            },
            "type": "scattercarpet"
           }
          ],
          "scattergeo": [
           {
            "marker": {
             "colorbar": {
              "outlinewidth": 0,
              "ticks": ""
             }
            },
            "type": "scattergeo"
           }
          ],
          "scattergl": [
           {
            "marker": {
             "colorbar": {
              "outlinewidth": 0,
              "ticks": ""
             }
            },
            "type": "scattergl"
           }
          ],
          "scattermapbox": [
           {
            "marker": {
             "colorbar": {
              "outlinewidth": 0,
              "ticks": ""
             }
            },
            "type": "scattermapbox"
           }
          ],
          "scatterpolar": [
           {
            "marker": {
             "colorbar": {
              "outlinewidth": 0,
              "ticks": ""
             }
            },
            "type": "scatterpolar"
           }
          ],
          "scatterpolargl": [
           {
            "marker": {
             "colorbar": {
              "outlinewidth": 0,
              "ticks": ""
             }
            },
            "type": "scatterpolargl"
           }
          ],
          "scatterternary": [
           {
            "marker": {
             "colorbar": {
              "outlinewidth": 0,
              "ticks": ""
             }
            },
            "type": "scatterternary"
           }
          ],
          "surface": [
           {
            "colorbar": {
             "outlinewidth": 0,
             "ticks": ""
            },
            "colorscale": [
             [
              0,
              "#0d0887"
             ],
             [
              0.1111111111111111,
              "#46039f"
             ],
             [
              0.2222222222222222,
              "#7201a8"
             ],
             [
              0.3333333333333333,
              "#9c179e"
             ],
             [
              0.4444444444444444,
              "#bd3786"
             ],
             [
              0.5555555555555556,
              "#d8576b"
             ],
             [
              0.6666666666666666,
              "#ed7953"
             ],
             [
              0.7777777777777778,
              "#fb9f3a"
             ],
             [
              0.8888888888888888,
              "#fdca26"
             ],
             [
              1,
              "#f0f921"
             ]
            ],
            "type": "surface"
           }
          ],
          "table": [
           {
            "cells": {
             "fill": {
              "color": "#EBF0F8"
             },
             "line": {
              "color": "white"
             }
            },
            "header": {
             "fill": {
              "color": "#C8D4E3"
             },
             "line": {
              "color": "white"
             }
            },
            "type": "table"
           }
          ]
         },
         "layout": {
          "annotationdefaults": {
           "arrowcolor": "#2a3f5f",
           "arrowhead": 0,
           "arrowwidth": 1
          },
          "autotypenumbers": "strict",
          "coloraxis": {
           "colorbar": {
            "outlinewidth": 0,
            "ticks": ""
           }
          },
          "colorscale": {
           "diverging": [
            [
             0,
             "#8e0152"
            ],
            [
             0.1,
             "#c51b7d"
            ],
            [
             0.2,
             "#de77ae"
            ],
            [
             0.3,
             "#f1b6da"
            ],
            [
             0.4,
             "#fde0ef"
            ],
            [
             0.5,
             "#f7f7f7"
            ],
            [
             0.6,
             "#e6f5d0"
            ],
            [
             0.7,
             "#b8e186"
            ],
            [
             0.8,
             "#7fbc41"
            ],
            [
             0.9,
             "#4d9221"
            ],
            [
             1,
             "#276419"
            ]
           ],
           "sequential": [
            [
             0,
             "#0d0887"
            ],
            [
             0.1111111111111111,
             "#46039f"
            ],
            [
             0.2222222222222222,
             "#7201a8"
            ],
            [
             0.3333333333333333,
             "#9c179e"
            ],
            [
             0.4444444444444444,
             "#bd3786"
            ],
            [
             0.5555555555555556,
             "#d8576b"
            ],
            [
             0.6666666666666666,
             "#ed7953"
            ],
            [
             0.7777777777777778,
             "#fb9f3a"
            ],
            [
             0.8888888888888888,
             "#fdca26"
            ],
            [
             1,
             "#f0f921"
            ]
           ],
           "sequentialminus": [
            [
             0,
             "#0d0887"
            ],
            [
             0.1111111111111111,
             "#46039f"
            ],
            [
             0.2222222222222222,
             "#7201a8"
            ],
            [
             0.3333333333333333,
             "#9c179e"
            ],
            [
             0.4444444444444444,
             "#bd3786"
            ],
            [
             0.5555555555555556,
             "#d8576b"
            ],
            [
             0.6666666666666666,
             "#ed7953"
            ],
            [
             0.7777777777777778,
             "#fb9f3a"
            ],
            [
             0.8888888888888888,
             "#fdca26"
            ],
            [
             1,
             "#f0f921"
            ]
           ]
          },
          "colorway": [
           "#636efa",
           "#EF553B",
           "#00cc96",
           "#ab63fa",
           "#FFA15A",
           "#19d3f3",
           "#FF6692",
           "#B6E880",
           "#FF97FF",
           "#FECB52"
          ],
          "font": {
           "color": "#2a3f5f"
          },
          "geo": {
           "bgcolor": "white",
           "lakecolor": "white",
           "landcolor": "#E5ECF6",
           "showlakes": true,
           "showland": true,
           "subunitcolor": "white"
          },
          "hoverlabel": {
           "align": "left"
          },
          "hovermode": "closest",
          "mapbox": {
           "style": "light"
          },
          "paper_bgcolor": "white",
          "plot_bgcolor": "#E5ECF6",
          "polar": {
           "angularaxis": {
            "gridcolor": "white",
            "linecolor": "white",
            "ticks": ""
           },
           "bgcolor": "#E5ECF6",
           "radialaxis": {
            "gridcolor": "white",
            "linecolor": "white",
            "ticks": ""
           }
          },
          "scene": {
           "xaxis": {
            "backgroundcolor": "#E5ECF6",
            "gridcolor": "white",
            "gridwidth": 2,
            "linecolor": "white",
            "showbackground": true,
            "ticks": "",
            "zerolinecolor": "white"
           },
           "yaxis": {
            "backgroundcolor": "#E5ECF6",
            "gridcolor": "white",
            "gridwidth": 2,
            "linecolor": "white",
            "showbackground": true,
            "ticks": "",
            "zerolinecolor": "white"
           },
           "zaxis": {
            "backgroundcolor": "#E5ECF6",
            "gridcolor": "white",
            "gridwidth": 2,
            "linecolor": "white",
            "showbackground": true,
            "ticks": "",
            "zerolinecolor": "white"
           }
          },
          "shapedefaults": {
           "line": {
            "color": "#2a3f5f"
           }
          },
          "ternary": {
           "aaxis": {
            "gridcolor": "white",
            "linecolor": "white",
            "ticks": ""
           },
           "baxis": {
            "gridcolor": "white",
            "linecolor": "white",
            "ticks": ""
           },
           "bgcolor": "#E5ECF6",
           "caxis": {
            "gridcolor": "white",
            "linecolor": "white",
            "ticks": ""
           }
          },
          "title": {
           "x": 0.05
          },
          "xaxis": {
           "automargin": true,
           "gridcolor": "white",
           "linecolor": "white",
           "ticks": "",
           "title": {
            "standoff": 15
           },
           "zerolinecolor": "white",
           "zerolinewidth": 2
          },
          "yaxis": {
           "automargin": true,
           "gridcolor": "white",
           "linecolor": "white",
           "ticks": "",
           "title": {
            "standoff": 15
           },
           "zerolinecolor": "white",
           "zerolinewidth": 2
          }
         }
        },
        "title": {
         "text": "EEG Effects of Brain Stimulation Interventions"
        },
        "width": 1100
       }
      }
     },
     "metadata": {},
     "output_type": "display_data"
    }
   ],
   "source": [
    "## FIGURE 3. Sunburst diagrams showing the effects of different interventions on EEG frequency bands in Alzheimer's disease\n",
    "\n",
    "# Load data\n",
    "df = pd.read_csv('studies_long_format.csv')\n",
    "\n",
    "# Effect labels\n",
    "effect_map = {1: 'Increase', 0: 'No Change', -1: 'Decrease'}\n",
    "df['Effect_Label'] = df['Effect'].map(effect_map)\n",
    "\n",
    "# CASP colour\n",
    "def casp_color(casp):\n",
    "    if casp >= 9:\n",
    "        return 'green'  # High quality\n",
    "    elif 7 <= casp <= 8.5:\n",
    "        return 'orange'  # Moderate quality\n",
    "    elif casp <= 6.5:\n",
    "        return 'red'  # Low quality\n",
    "\n",
    "# Intervention groups\n",
    "def group_intervention(row):\n",
    "    if 'rTMS' in row['Intervention']:\n",
    "        return 'rTMS'\n",
    "    elif 'tDCS' in row['Intervention']:\n",
    "        return 'tDCS'\n",
    "    else:\n",
    "        return row['Intervention']\n",
    "df['Intervention_Group'] = df.apply(group_intervention, axis=1)\n",
    "\n",
    "def plot_sunburst(intervention_type, group_col='Intervention'):\n",
    "    dff = df[df['Intervention_Type'] == intervention_type].copy()\n",
    "    if intervention_type == 'Brain Stimulation':\n",
    "        group_col = 'Intervention_Group'\n",
    "\n",
    "    # Group so that each segment is unique\n",
    "    grouped = dff.groupby([group_col, 'Frequency_Band', 'Effect_Label']).agg({\n",
    "        'Study': lambda x: ', '.join(x),\n",
    "        'CASP': lambda x: ', '.join(str(i) for i in x)\n",
    "    }).reset_index()\n",
    "\n",
    "    # For the colour: take the lowest CASP score of the studies in the segment\n",
    "    grouped['CASP_num'] = grouped['CASP'].apply(lambda x: min([float(i) for i in x.split(', ')]))\n",
    "    grouped['CASP_Color'] = grouped['CASP_num'].apply(casp_color)\n",
    "\n",
    "    fig = px.sunburst(\n",
    "        grouped,\n",
    "        path=[group_col, 'Frequency_Band', 'Effect_Label'],\n",
    "        color='CASP_Color',\n",
    "        color_discrete_map={'green': '#6FCF97', 'orange': '#F2C94C', 'red': '#EB5757', 'gray': '#BDBDBD'},\n",
    "        hover_data={'Study': True, 'CASP': True, group_col: True, 'Frequency_Band': True, 'Effect_Label': True, 'CASP_Color': False},\n",
    "        title=f\"EEG Effects of {intervention_type} Interventions\"\n",
    "    )\n",
    "\n",
    "    # Determine which ids belong to the outer ring (effect level)\n",
    "    ids = fig.data[0]['ids']\n",
    "    labels = fig.data[0]['labels']\n",
    "    parents = fig.data[0]['parents']\n",
    "\n",
    "    parent_counts = Counter(parents)\n",
    "    outer_ring_indices = [i for i, id_ in enumerate(ids) if id_ not in parent_counts]\n",
    "\n",
    "    # Make mapping: id --> casp colour\n",
    "    id_color_map = {}\n",
    "    for i, row in grouped.iterrows():\n",
    "        id_string = f\"{row[group_col]}/{row['Frequency_Band']}/{row['Effect_Label']}\"\n",
    "        id_color_map[id_string] = {'green': '#6FCF97', 'orange': '#F2C94C', 'red': '#EB5757'}[row['CASP_Color']]\n",
    "\n",
    "    colors = ['#BDBDBD'] * len(ids)\n",
    "\n",
    "    # Colour only the outer ring correctly\n",
    "    for idx in outer_ring_indices:\n",
    "        id_string = ids[idx]\n",
    "        if id_string in id_color_map:\n",
    "            colors[idx] = id_color_map[id_string]\n",
    "\n",
    "    fig.update_traces(\n",
    "        marker=dict(colors=colors),\n",
    "        insidetextorientation='radial'\n",
    "    )\n",
    "\n",
    "    fig.update_layout(width=1100, height=1100)\n",
    "    fig.show()\n",
    "\n",
    "# Plot for Medication\n",
    "plot_sunburst('Medication', group_col='Intervention')\n",
    "\n",
    "# Plot for Brain Stimulation\n",
    "plot_sunburst('Brain Stimulation', group_col='Intervention_Group')\n"
   ]
  },
  {
   "cell_type": "code",
   "execution_count": null,
   "metadata": {},
   "outputs": [
    {
     "data": {
      "image/png": "[encoded data removed]",
      "text/plain": [
       "<Figure size 1200x600 with 2 Axes>"
      ]
     },
     "metadata": {},
     "output_type": "display_data"
    }
   ],
   "source": [
    "## FIGURE 4. Concordance between clinical and EEG outcomes across included studies\n",
    "\n",
    "# Average effect size per band\n",
    "effect_sizes = {\n",
    "    'Delta': np.mean([1.59, -0.65, 1.05, 3.9, 4.9]),  # Knott, Vecchio, Alvarez, Saletu SDAT, Saletu MID\n",
    "    'Theta': np.mean([3.62, 0.93, 1.12]),             # Knott, Gangemi, Alvarez\n",
    "    'Alpha': np.mean([3.18, 0.88, 0.36, -0.86, 0.87]), # Knott, Gangemi, Vecchio (alpha1/2), Alvarez\n",
    "    'Beta': np.mean([2.46, 0.91, 0.51]),              # Knott, Gangemi, de Waal\n",
    "    'Gamma': np.mean([1.05, 0.724, 0.524, 0.664])     # Hoy, Benussi (rs^2 omgezet), alleen als je deze wilt tonen\n",
    "}\n",
    "\n",
    "df = pd.DataFrame(studies)\n",
    "\n",
    "outcomes = ['Plus_Plus', 'Min_Min', 'Min_Plus', 'Plus_Min', 'Unknown_Plus']\n",
    "colors = {\n",
    "    'Plus_Plus': '#2ecc71',    # Green\n",
    "    'Min_Min': '#e74c3c',      # Red\n",
    "    'Min_Plus': '#f1c40f',     # Yellow\n",
    "    'Plus_Min': '#3498db',     # Blue\n",
    "    'Unknown_Plus': '#95a5a6'  # Gray\n",
    "}\n",
    "\n",
    "bands = ['Delta', 'Theta', 'Alpha', 'Beta', 'Gamma']\n",
    "r1 = np.arange(len(bands))\n",
    "band_outcomes = {band: {outcome: 0 for outcome in outcomes} for band in bands}\n",
    "\n",
    "for _, study in df.iterrows():\n",
    "    outcome = study_outcomes[study['Study']]\n",
    "    for band in bands:\n",
    "        if band in study['Bands']:\n",
    "            band_outcomes[band][outcome] += 1\n",
    "\n",
    "fig, ax = plt.subplots(figsize=(12, 6))\n",
    "barWidth = 0.35\n",
    "bottom = np.zeros(len(bands))\n",
    "for outcome in outcomes:\n",
    "    counts = [band_outcomes[band][outcome] for band in bands]\n",
    "    ax.bar(r1, counts, width=barWidth, color=colors[outcome], label=outcome, bottom=bottom)\n",
    "    bottom += counts\n",
    "\n",
    "legend_labels = {\n",
    "    'Plus_Plus': 'Concordant positive (clinical & EEG)',\n",
    "    'Min_Min': 'Concordant negative (clinical & EEG)',\n",
    "    'Min_Plus': 'Clinical negative, EEG positive',\n",
    "    'Plus_Min': 'Clinical positive, EEG negative',\n",
    "    'Unknown_Plus': 'No clinical outcome, EEG positive'\n",
    "}\n",
    "\n",
    "# Add count labels on top of bars\n",
    "for i, band in enumerate(bands):\n",
    "    total = sum(band_outcomes[band].values())\n",
    "    if total > 0:\n",
    "        ax.text(i, total + 0.1, str(total), ha='center')\n",
    "\n",
    "ax.set_xlabel('EEG Frequency Bands', fontsize=12)\n",
    "ax.set_ylabel('Number of Studies', fontsize=12)\n",
    "ax.set_xticks(r1)\n",
    "ax.set_xticklabels(bands)\n",
    "plt.title('Distribution of Outcomes per Frequency Band', fontsize=14, pad=20)\n",
    "\n",
    "# Legend with clear labels\n",
    "handles, labels = ax.get_legend_handles_labels()\n",
    "new_labels = [legend_labels.get(l, l) for l in labels]\n",
    "ax.legend(handles, new_labels, title='Outcome Categories', bbox_to_anchor=(1.05, 1), loc='upper left')\n",
    "\n",
    "# Effect size as black dots (second y-axis)\n",
    "ax2 = ax.twinx()\n",
    "effect_size_values = [effect_sizes.get(band) for band in bands]\n",
    "for i, es in enumerate(effect_size_values):\n",
    "    if es is not None and not np.isnan(es):\n",
    "        ax2.plot(i, es, 'ko', label='Effect size' if i == 0 else \"\", markersize=8)\n",
    "        ax2.text(i, es, f\"{es:.2f}\", ha='center', va='bottom', color='k', fontsize=10)\n",
    "ax2.set_ylabel(\"Effect size (Cohen's d)\")\n",
    "if any(es is not None and not np.isnan(es) for es in effect_size_values):\n",
    "    max_es = max([es for es in effect_size_values if es is not None and not np.isnan(es)])\n",
    "    ax2.set_ylim(0, 3.5)\n",
    "else:\n",
    "    ax2.set_ylim(0, 1)\n",
    "\n",
    "# Effect size legend\n",
    "handles2, labels2 = ax2.get_legend_handles_labels()\n",
    "if handles2:\n",
    "    ax2.legend(handles2, ['Effect size'], loc='upper left')\n",
    "\n",
    "plt.tight_layout()\n",
    "plt.show()"
   ]
  }
 ],
 "metadata": {
  "kernelspec": {
   "display_name": "base",
   "language": "python",
   "name": "python3"
  },
  "language_info": {
   "codemirror_mode": {
    "name": "ipython",
    "version": 3
   },
   "file_extension": ".py",
   "mimetype": "text/x-python",
   "name": "python",
   "nbconvert_exporter": "python",
   "pygments_lexer": "ipython3",
   "version": "3.12.3"
  }
 },
 "nbformat": 4,
 "nbformat_minor": 2
}
